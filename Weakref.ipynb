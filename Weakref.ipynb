{
 "cells": [
  {
   "cell_type": "markdown",
   "metadata": {},
   "source": [
    "# Модуль weakref"
   ]
  },
  {
   "cell_type": "markdown",
   "metadata": {},
   "source": [
    "Модуль weakref обеспечивает поддержку слабых ссылок на объекты. Особенностью слабой ссылки является то, что она позволяет ссылаться на объект, не препятствуя его автоматическому\n",
    "удалению."
   ]
  },
  {
   "cell_type": "markdown",
   "metadata": {},
   "source": [
    "## weakref.ref"
   ]
  },
  {
   "cell_type": "markdown",
   "metadata": {},
   "source": [
    "Со слабыми ссылками работают через класс ref. Чтобы обратиться к исходному объекту, следует вызвать объект ссылки.\n",
    "\n"
   ]
  },
  {
   "cell_type": "code",
   "execution_count": null,
   "metadata": {},
   "outputs": [],
   "source": [
    "import weakref\n",
    "\n",
    "\n",
    "class ExpensiveObject:\n",
    "\n",
    "    def __del__(self):\n",
    "        print('(Deleting {})'.format(self))\n",
    "\n",
    "\n",
    "obj = ExpensiveObject()\n",
    "r = weakref.ref(obj)\n",
    "\n",
    "print('obj:', obj)\n",
    "print('ref:', r)\n",
    "print('r():', r())\n",
    "\n",
    "print('deleting obj')\n",
    "del obj\n",
    "print('r():', r())"
   ]
  },
  {
   "cell_type": "markdown",
   "metadata": {},
   "source": [
    "В данном случае второй вызов объекта ссылки, r (), возвращает значение\n",
    "None, поскольку к этому времени исходный объект obj уже был удален."
   ]
  },
  {
   "cell_type": "markdown",
   "metadata": {},
   "source": [
    "## Функции обратного вызова в слабых ссылках"
   ]
  },
  {
   "cell_type": "markdown",
   "metadata": {},
   "source": [
    "Конструктор ref поддерживает необязательный аргумент в виде функции обратного вызова, которая будет автоматически вызываться при удалении исходного объекта."
   ]
  },
  {
   "cell_type": "code",
   "execution_count": null,
   "metadata": {},
   "outputs": [],
   "source": [
    "import weakref\n",
    "\n",
    "\n",
    "class ExpensiveObject:\n",
    "\n",
    "    def __del__(self):\n",
    "        print('(Deleting {})'.format(self))\n",
    "\n",
    "\n",
    "def callback(reference):\n",
    "    \"\"\"Вызывается при удалении целевого объекта\"\"\"\n",
    "    print('callback({!r})'.format(reference))\n",
    "\n",
    "\n",
    "obj = ExpensiveObject()\n",
    "r = weakref.ref(obj, callback)\n",
    "\n",
    "print('obj:', obj)\n",
    "print('ref:', r)\n",
    "print('r():', r())\n",
    "\n",
    "print('deleting obj')\n",
    "del obj\n",
    "print('r():', r())"
   ]
  },
  {
   "cell_type": "markdown",
   "metadata": {},
   "source": [
    "Функция обратного вызова получает объект ссылки в качестве аргумента, когда ссылка становится недействительной по причине удаления объекта. Одним из возможных применений этого средства является удаление объекта слабой ссылки из кеша."
   ]
  },
  {
   "cell_type": "markdown",
   "metadata": {},
   "source": [
    "## weakref.finalize"
   ]
  },
  {
   "cell_type": "markdown",
   "metadata": {},
   "source": [
    "Надежность управления ресурсами при удалении слабых ссылок можно повысить, связывая c объектами функции обратного вызова при помощи функции finalize(). Экземпляр finalize (объект-финализатор) удерживается в памяти до тех пор, пока не будет удален связанный c ним объект, даже если в приложении отсутствуют ссылки на объект-финализатор."
   ]
  },
  {
   "cell_type": "code",
   "execution_count": null,
   "metadata": {},
   "outputs": [],
   "source": [
    "import weakref\n",
    "\n",
    "\n",
    "class ExpensiveObject:\n",
    "\n",
    "    def __del__(self):\n",
    "        print('(Deleting {})'.format(self))\n",
    "\n",
    "\n",
    "def on_finalize(*args):\n",
    "    print('on_finalize({!r})'.format(args))\n",
    "\n",
    "\n",
    "obj = ExpensiveObject()\n",
    "weakref.finalize(obj, on_finalize, 'extra argument')\n",
    "\n",
    "del obj"
   ]
  },
  {
   "cell_type": "markdown",
   "metadata": {},
   "source": [
    "Аргументами функции finalize() являются отслеживаемый объект, вызываемый объект, подлежащий вызову при удалении объекта сборщиком мусора, и любые позиционные или именованные аргументы, передаваемые вызываемому объекту."
   ]
  },
  {
   "cell_type": "markdown",
   "metadata": {},
   "source": [
    "## atexit"
   ]
  },
  {
   "cell_type": "markdown",
   "metadata": {},
   "source": [
    "Экземпляр finalize имеет перезаписываемое свойство atexit, позволяющее\n",
    "управлять вызовом функции обратного вызова при выходе из программы, если\n",
    "она до этого не вызывалась."
   ]
  },
  {
   "cell_type": "code",
   "execution_count": 2,
   "metadata": {},
   "outputs": [
    {
     "name": "stdout",
     "output_type": "stream",
     "text": [
      "(Deleting <__main__.ExpensiveObject object at 0x000002BE18C45280>)\n",
      "on_finalize(('extra argument',))\n"
     ]
    },
    {
     "ename": "ValueError",
     "evalue": "invalid literal for int() with base 10: '-f'",
     "output_type": "error",
     "traceback": [
      "\u001b[1;31m---------------------------------------------------------------------------\u001b[0m",
      "\u001b[1;31mValueError\u001b[0m                                Traceback (most recent call last)",
      "\u001b[1;32m<ipython-input-2-bdd9eec86f13>\u001b[0m in \u001b[0;36m<module>\u001b[1;34m\u001b[0m\n\u001b[0;32m     15\u001b[0m \u001b[0mobj\u001b[0m \u001b[1;33m=\u001b[0m \u001b[0mExpensiveObject\u001b[0m\u001b[1;33m(\u001b[0m\u001b[1;33m)\u001b[0m\u001b[1;33m\u001b[0m\u001b[1;33m\u001b[0m\u001b[0m\n\u001b[0;32m     16\u001b[0m \u001b[0mf\u001b[0m \u001b[1;33m=\u001b[0m \u001b[0mweakref\u001b[0m\u001b[1;33m.\u001b[0m\u001b[0mfinalize\u001b[0m\u001b[1;33m(\u001b[0m\u001b[0mobj\u001b[0m\u001b[1;33m,\u001b[0m \u001b[0mon_finalize\u001b[0m\u001b[1;33m,\u001b[0m \u001b[1;34m'extra argument'\u001b[0m\u001b[1;33m)\u001b[0m\u001b[1;33m\u001b[0m\u001b[1;33m\u001b[0m\u001b[0m\n\u001b[1;32m---> 17\u001b[1;33m \u001b[0mf\u001b[0m\u001b[1;33m.\u001b[0m\u001b[0matexit\u001b[0m \u001b[1;33m=\u001b[0m \u001b[0mbool\u001b[0m\u001b[1;33m(\u001b[0m\u001b[0mint\u001b[0m\u001b[1;33m(\u001b[0m\u001b[0msys\u001b[0m\u001b[1;33m.\u001b[0m\u001b[0margv\u001b[0m\u001b[1;33m[\u001b[0m\u001b[1;36m1\u001b[0m\u001b[1;33m]\u001b[0m\u001b[1;33m)\u001b[0m\u001b[1;33m)\u001b[0m\u001b[1;33m\u001b[0m\u001b[1;33m\u001b[0m\u001b[0m\n\u001b[0m",
      "\u001b[1;31mValueError\u001b[0m: invalid literal for int() with base 10: '-f'"
     ]
    }
   ],
   "source": [
    "import sys\n",
    "import weakref\n",
    "\n",
    "\n",
    "class ExpensiveObject:\n",
    "\n",
    "    def __del__(self):\n",
    "        print('(Deleting {})'.format(self))\n",
    "\n",
    "\n",
    "def on_finalize(*args):\n",
    "    print('on_finalize({!r})'.format(args))\n",
    "\n",
    "\n",
    "obj = ExpensiveObject()\n",
    "f = weakref.finalize(obj, on_finalize, 'extra argument')\n",
    "f.atexit = bool(int(sys.argv[1]))"
   ]
  },
  {
   "cell_type": "markdown",
   "metadata": {},
   "source": [
    "Предоставление экземпляру finalize ссылки на объект приводит к тому, что\n",
    "она удерживается в памяти, поэтому сборщик мусора не удалитданный объект."
   ]
  },
  {
   "cell_type": "code",
   "execution_count": null,
   "metadata": {},
   "outputs": [],
   "source": [
    "import gc\n",
    "import weakref\n",
    "\n",
    "\n",
    "class ExpensiveObject:\n",
    "\n",
    "    def __del__(self):\n",
    "        print('(Deleting {})'.format(self))\n",
    "\n",
    "\n",
    "def on_finalize(*args):\n",
    "    print('on_finalize({!r})'.format(args))\n",
    "\n",
    "\n",
    "obj = ExpensiveObject()\n",
    "obj_id = id(obj)\n",
    "\n",
    "f = weakref.finalize(obj, on_finalize, obj)\n",
    "f.atexit = False\n",
    "\n",
    "del obj\n",
    "\n",
    "for o in gc.get_objects():\n",
    "    if id(o) == obj_id:\n",
    "        print('found uncollected object in gc')"
   ]
  },
  {
   "cell_type": "markdown",
   "metadata": {},
   "source": [
    "Как следует из этого примера, объект obj сохраняется в памяти даже после удаления прямой ссылки на него и остается видимым для сборщика мусора по средством объекта-финализатора f."
   ]
  },
  {
   "cell_type": "markdown",
   "metadata": {},
   "source": [
    "Использование связанного метода отслеживаемого объекта также может препятствовать надлежащему выполнению завершающих операций по освобождению системных ресурсов."
   ]
  },
  {
   "cell_type": "markdown",
   "metadata": {},
   "source": [
    "## weakref.proxy"
   ]
  },
  {
   "cell_type": "markdown",
   "metadata": {},
   "source": [
    "Иногда удобнее использовать прокси, чем слабую ссылку. Прокси-серверы можно использовать, как если бы они были исходным объектом, и их не нужно вызывать до того, как объект станет доступен. Как следствие, они могут быть переданы в библиотеку, которая не знает, что получает ссылку вместо реального объекта"
   ]
  },
  {
   "cell_type": "code",
   "execution_count": null,
   "metadata": {},
   "outputs": [],
   "source": [
    "import weakref\n",
    "\n",
    "\n",
    "class ExpensiveObject:\n",
    "\n",
    "    def __init__(self, name):\n",
    "        self.name = name\n",
    "\n",
    "    def __del__(self):\n",
    "        print('(Deleting {})'.format(self))\n",
    "\n",
    "\n",
    "obj = ExpensiveObject('My Object')\n",
    "r = weakref.ref(obj)\n",
    "p = weakref.proxy(obj)\n",
    "\n",
    "print('via obj:', obj.name)\n",
    "print('via ref:', r().name)\n",
    "print('via proxy:', p.name)\n",
    "del obj\n",
    "print('via proxy:', p.name)"
   ]
  },
  {
   "cell_type": "markdown",
   "metadata": {},
   "source": [
    "В случае обращения к прокси-объекгу после удаления объекта, который он\n",
    "представляет, возбуждается исключение ReferenceError."
   ]
  },
  {
   "cell_type": "markdown",
   "metadata": {},
   "source": [
    "## WeakValueDictionary"
   ]
  },
  {
   "cell_type": "markdown",
   "metadata": {},
   "source": [
    "Класс WeakValueDictionary позволяет создать словарь, в котором значения представлены слабыми ссылками и могут автоматически удаляться сборщиком мусора, если они больше не используются другим кодом. Ниже приведен пример, в котором явные вызовы сборщика мусора используются для демонстрации различий между управлением памятью в случае обычного словаря и словаря WeakValueDictionary."
   ]
  },
  {
   "cell_type": "code",
   "execution_count": null,
   "metadata": {},
   "outputs": [],
   "source": [
    "import gc\n",
    "from pprint import pprint\n",
    "import weakref\n",
    "\n",
    "gc.set_debug(gc.DEBUG_UNCOLLECTABLE)\n",
    "\n",
    "\n",
    "class ExpensiveObject:\n",
    "\n",
    "    def __init__(self, name):\n",
    "        self.name = name\n",
    "\n",
    "    def __repr__(self):\n",
    "        return 'ExpensiveObject({})'.format(self.name)\n",
    "\n",
    "    def __del__(self):\n",
    "        print('    (Deleting {})'.format(self))\n",
    "\n",
    "\n",
    "def demo(cache_factory):\n",
    "    # Удержать объекты для того, чтобы предотвратить \n",
    "    # немедленное удаление слабых ссылок\n",
    "    \n",
    "    all_refs = {}\n",
    "    # Создать кеш\n",
    "    print('CACHE TYPE:', cache_factory)\n",
    "    cache = cache_factory()\n",
    "    for name in ['one', 'two', 'three']:\n",
    "        o = ExpensiveObject(name)\n",
    "        cache[name] = o\n",
    "        all_refs[name] = o\n",
    "        del o  # уменьшить счетчик ссылок\n",
    "\n",
    "    print('  all_refs =', end=' ')\n",
    "    pprint(all_refs)\n",
    "    print('\\n  Before, cache contains:', list(cache.keys()))\n",
    "    for name, value in cache.items():\n",
    "        print('    {} = {}'.format(name, value))\n",
    "        del value  # уменьшить счетчик ссылок\n",
    "\n",
    "    # Удалить все ссылки на объекты, за исключением тех,\n",
    "    # которые нахдятся в кеше\n",
    "    print('\\n  Cleanup:')\n",
    "    del all_refs\n",
    "    gc.collect()\n",
    "\n",
    "    print('\\n  After, cache contains:', list(cache.keys()))\n",
    "    for name, value in cache.items():\n",
    "        print('    {} = {}'.format(name, value))\n",
    "    print('  demo returning')\n",
    "    return\n",
    "\n",
    "\n",
    "demo(dict)\n",
    "print()\n",
    "\n",
    "demo(weakref.WeakValueDictionary)"
   ]
  },
  {
   "cell_type": "markdown",
   "metadata": {},
   "source": [
    "Используемые в циклах for переменные, ссылающиеся на кешируемые значения, должны удаляться явным образом, что и обусловливает необходимость уменьшения счетчиков ссылок на соответствующие объекты. Если этого не сделать, то сборщик мусора не сможет удалить объекты, и они будут оставаться в кеше. Переменная all_refs используется для сохранения ссылок c той целью,чтобы они не были преждевременно удалены сборщиком мусора."
   ]
  },
  {
   "cell_type": "code",
   "execution_count": null,
   "metadata": {},
   "outputs": [],
   "source": []
  }
 ],
 "metadata": {
  "kernelspec": {
   "display_name": "Python 3",
   "language": "python",
   "name": "python3"
  },
  "language_info": {
   "codemirror_mode": {
    "name": "ipython",
    "version": 3
   },
   "file_extension": ".py",
   "mimetype": "text/x-python",
   "name": "python",
   "nbconvert_exporter": "python",
   "pygments_lexer": "ipython3",
   "version": "3.8.3"
  }
 },
 "nbformat": 4,
 "nbformat_minor": 4
}
