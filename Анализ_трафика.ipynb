{
  "nbformat": 4,
  "nbformat_minor": 0,
  "metadata": {
    "kernelspec": {
      "display_name": "Python 3",
      "language": "python",
      "name": "python3"
    },
    "language_info": {
      "codemirror_mode": {
        "name": "ipython",
        "version": 3
      },
      "file_extension": ".py",
      "mimetype": "text/x-python",
      "name": "python",
      "nbconvert_exporter": "python",
      "pygments_lexer": "ipython3",
      "version": "3.8.3"
    },
    "colab": {
      "name": "Анализ_трафика.ipynb",
      "provenance": [],
      "collapsed_sections": [],
      "include_colab_link": true
    }
  },
  "cells": [
    {
      "cell_type": "markdown",
      "metadata": {
        "id": "view-in-github",
        "colab_type": "text"
      },
      "source": [
        "<a href=\"https://colab.research.google.com/github/Anniegard/-/blob/main/%D0%90%D0%BD%D0%B0%D0%BB%D0%B8%D0%B7_%D1%82%D1%80%D0%B0%D1%84%D0%B8%D0%BA%D0%B0.ipynb\" target=\"_parent\"><img src=\"https://colab.research.google.com/assets/colab-badge.svg\" alt=\"Open In Colab\"/></a>"
      ]
    },
    {
      "cell_type": "markdown",
      "metadata": {
        "id": "-Xvo2O6PvSYq"
      },
      "source": [
        "<a href=\"https://colab.research.google.com/github/dm-fedorov/pandas_basic/blob/master/упражнения/Анализ_трафика.ipynb\"><img align=\"left\" src=\"https://colab.research.google.com/assets/colab-badge.svg\" alt=\"Open in Colab\" title=\"Open and Execute in Google Colaboratory\" target=\"_blank\"></a>"
      ]
    },
    {
      "cell_type": "code",
      "metadata": {
        "id": "hzqVV2vUvSYz"
      },
      "source": [
        "import pandas as pd\n",
        "import numpy as np"
      ],
      "execution_count": null,
      "outputs": []
    },
    {
      "cell_type": "code",
      "metadata": {
        "id": "UiVPZZItvSY0",
        "colab": {
          "base_uri": "https://localhost:8080/",
          "height": 195
        },
        "outputId": "4d6e594f-6716-49d6-c20f-58d1d39944be"
      },
      "source": [
        "df = pd.read_csv(\"https://raw.githubusercontent.com/dm-fedorov/pandas_basic/master/%D1%83%D0%BF%D1%80%D0%B0%D0%B6%D0%BD%D0%B5%D0%BD%D0%B8%D1%8F/data/syn_scan_24112020.csv\")\n",
        "df.head()"
      ],
      "execution_count": null,
      "outputs": [
        {
          "output_type": "execute_result",
          "data": {
            "text/html": [
              "<div>\n",
              "<style scoped>\n",
              "    .dataframe tbody tr th:only-of-type {\n",
              "        vertical-align: middle;\n",
              "    }\n",
              "\n",
              "    .dataframe tbody tr th {\n",
              "        vertical-align: top;\n",
              "    }\n",
              "\n",
              "    .dataframe thead th {\n",
              "        text-align: right;\n",
              "    }\n",
              "</style>\n",
              "<table border=\"1\" class=\"dataframe\">\n",
              "  <thead>\n",
              "    <tr style=\"text-align: right;\">\n",
              "      <th></th>\n",
              "      <th>time</th>\n",
              "      <th>source</th>\n",
              "      <th>destination</th>\n",
              "      <th>protocol</th>\n",
              "      <th>length</th>\n",
              "      <th>tcp_retransmission</th>\n",
              "      <th>srcport</th>\n",
              "      <th>dstport</th>\n",
              "      <th>flags</th>\n",
              "      <th>seq_ack</th>\n",
              "      <th>win</th>\n",
              "      <th>len</th>\n",
              "      <th>mss</th>\n",
              "      <th>10</th>\n",
              "    </tr>\n",
              "  </thead>\n",
              "  <tbody>\n",
              "    <tr>\n",
              "      <th>0</th>\n",
              "      <td>0.000000</td>\n",
              "      <td>172.16.0.8</td>\n",
              "      <td>64.13.134.52</td>\n",
              "      <td>TCP</td>\n",
              "      <td>58</td>\n",
              "      <td>False</td>\n",
              "      <td>36050</td>\n",
              "      <td>443</td>\n",
              "      <td>[SYN]</td>\n",
              "      <td>Seq=0</td>\n",
              "      <td>Win=3072</td>\n",
              "      <td>Len=0</td>\n",
              "      <td>MSS=1460</td>\n",
              "      <td>NaN</td>\n",
              "    </tr>\n",
              "    <tr>\n",
              "      <th>1</th>\n",
              "      <td>0.001539</td>\n",
              "      <td>172.16.0.8</td>\n",
              "      <td>64.13.134.52</td>\n",
              "      <td>TCP</td>\n",
              "      <td>58</td>\n",
              "      <td>False</td>\n",
              "      <td>36050</td>\n",
              "      <td>143</td>\n",
              "      <td>[SYN]</td>\n",
              "      <td>Seq=0</td>\n",
              "      <td>Win=3072</td>\n",
              "      <td>Len=0</td>\n",
              "      <td>MSS=1460</td>\n",
              "      <td>NaN</td>\n",
              "    </tr>\n",
              "    <tr>\n",
              "      <th>2</th>\n",
              "      <td>0.001597</td>\n",
              "      <td>172.16.0.8</td>\n",
              "      <td>64.13.134.52</td>\n",
              "      <td>TCP</td>\n",
              "      <td>58</td>\n",
              "      <td>False</td>\n",
              "      <td>36050</td>\n",
              "      <td>3306</td>\n",
              "      <td>[SYN]</td>\n",
              "      <td>Seq=0</td>\n",
              "      <td>Win=2048</td>\n",
              "      <td>Len=0</td>\n",
              "      <td>MSS=1460</td>\n",
              "      <td>NaN</td>\n",
              "    </tr>\n",
              "    <tr>\n",
              "      <th>3</th>\n",
              "      <td>0.001650</td>\n",
              "      <td>172.16.0.8</td>\n",
              "      <td>64.13.134.52</td>\n",
              "      <td>TCP</td>\n",
              "      <td>58</td>\n",
              "      <td>False</td>\n",
              "      <td>36050</td>\n",
              "      <td>199</td>\n",
              "      <td>[SYN]</td>\n",
              "      <td>Seq=0</td>\n",
              "      <td>Win=3072</td>\n",
              "      <td>Len=0</td>\n",
              "      <td>MSS=1460</td>\n",
              "      <td>NaN</td>\n",
              "    </tr>\n",
              "    <tr>\n",
              "      <th>4</th>\n",
              "      <td>0.001703</td>\n",
              "      <td>172.16.0.8</td>\n",
              "      <td>64.13.134.52</td>\n",
              "      <td>TCP</td>\n",
              "      <td>58</td>\n",
              "      <td>False</td>\n",
              "      <td>36050</td>\n",
              "      <td>111</td>\n",
              "      <td>[SYN]</td>\n",
              "      <td>Seq=0</td>\n",
              "      <td>Win=1024</td>\n",
              "      <td>Len=0</td>\n",
              "      <td>MSS=1460</td>\n",
              "      <td>NaN</td>\n",
              "    </tr>\n",
              "  </tbody>\n",
              "</table>\n",
              "</div>"
            ],
            "text/plain": [
              "       time      source   destination protocol  ...       win    len       mss   10\n",
              "0  0.000000  172.16.0.8  64.13.134.52      TCP  ...  Win=3072  Len=0  MSS=1460  NaN\n",
              "1  0.001539  172.16.0.8  64.13.134.52      TCP  ...  Win=3072  Len=0  MSS=1460  NaN\n",
              "2  0.001597  172.16.0.8  64.13.134.52      TCP  ...  Win=2048  Len=0  MSS=1460  NaN\n",
              "3  0.001650  172.16.0.8  64.13.134.52      TCP  ...  Win=3072  Len=0  MSS=1460  NaN\n",
              "4  0.001703  172.16.0.8  64.13.134.52      TCP  ...  Win=1024  Len=0  MSS=1460  NaN\n",
              "\n",
              "[5 rows x 14 columns]"
            ]
          },
          "metadata": {
            "tags": []
          },
          "execution_count": 2
        }
      ]
    },
    {
      "cell_type": "code",
      "metadata": {
        "id": "y59eWlplvSY2",
        "colab": {
          "base_uri": "https://localhost:8080/",
          "height": 599
        },
        "outputId": "2d017acb-e790-4175-e511-151df07281aa"
      },
      "source": [
        "df[\"time\"] = pd.to_datetime(df[\"time\"])\n",
        "df.set_index(df[\"time\"])"
      ],
      "execution_count": null,
      "outputs": [
        {
          "output_type": "execute_result",
          "data": {
            "text/html": [
              "<div>\n",
              "<style scoped>\n",
              "    .dataframe tbody tr th:only-of-type {\n",
              "        vertical-align: middle;\n",
              "    }\n",
              "\n",
              "    .dataframe tbody tr th {\n",
              "        vertical-align: top;\n",
              "    }\n",
              "\n",
              "    .dataframe thead th {\n",
              "        text-align: right;\n",
              "    }\n",
              "</style>\n",
              "<table border=\"1\" class=\"dataframe\">\n",
              "  <thead>\n",
              "    <tr style=\"text-align: right;\">\n",
              "      <th></th>\n",
              "      <th>time</th>\n",
              "      <th>source</th>\n",
              "      <th>destination</th>\n",
              "      <th>protocol</th>\n",
              "      <th>length</th>\n",
              "      <th>tcp_retransmission</th>\n",
              "      <th>srcport</th>\n",
              "      <th>dstport</th>\n",
              "      <th>flags</th>\n",
              "      <th>seq_ack</th>\n",
              "      <th>win</th>\n",
              "      <th>len</th>\n",
              "      <th>mss</th>\n",
              "      <th>10</th>\n",
              "    </tr>\n",
              "    <tr>\n",
              "      <th>time</th>\n",
              "      <th></th>\n",
              "      <th></th>\n",
              "      <th></th>\n",
              "      <th></th>\n",
              "      <th></th>\n",
              "      <th></th>\n",
              "      <th></th>\n",
              "      <th></th>\n",
              "      <th></th>\n",
              "      <th></th>\n",
              "      <th></th>\n",
              "      <th></th>\n",
              "      <th></th>\n",
              "      <th></th>\n",
              "    </tr>\n",
              "  </thead>\n",
              "  <tbody>\n",
              "    <tr>\n",
              "      <th>1970-01-01 00:00:00.000000000</th>\n",
              "      <td>1970-01-01 00:00:00.000000000</td>\n",
              "      <td>172.16.0.8</td>\n",
              "      <td>64.13.134.52</td>\n",
              "      <td>TCP</td>\n",
              "      <td>58</td>\n",
              "      <td>False</td>\n",
              "      <td>36050</td>\n",
              "      <td>443</td>\n",
              "      <td>[SYN]</td>\n",
              "      <td>Seq=0</td>\n",
              "      <td>Win=3072</td>\n",
              "      <td>Len=0</td>\n",
              "      <td>MSS=1460</td>\n",
              "      <td>NaN</td>\n",
              "    </tr>\n",
              "    <tr>\n",
              "      <th>1970-01-01 00:00:00.000000000</th>\n",
              "      <td>1970-01-01 00:00:00.000000000</td>\n",
              "      <td>172.16.0.8</td>\n",
              "      <td>64.13.134.52</td>\n",
              "      <td>TCP</td>\n",
              "      <td>58</td>\n",
              "      <td>False</td>\n",
              "      <td>36050</td>\n",
              "      <td>143</td>\n",
              "      <td>[SYN]</td>\n",
              "      <td>Seq=0</td>\n",
              "      <td>Win=3072</td>\n",
              "      <td>Len=0</td>\n",
              "      <td>MSS=1460</td>\n",
              "      <td>NaN</td>\n",
              "    </tr>\n",
              "    <tr>\n",
              "      <th>1970-01-01 00:00:00.000000000</th>\n",
              "      <td>1970-01-01 00:00:00.000000000</td>\n",
              "      <td>172.16.0.8</td>\n",
              "      <td>64.13.134.52</td>\n",
              "      <td>TCP</td>\n",
              "      <td>58</td>\n",
              "      <td>False</td>\n",
              "      <td>36050</td>\n",
              "      <td>3306</td>\n",
              "      <td>[SYN]</td>\n",
              "      <td>Seq=0</td>\n",
              "      <td>Win=2048</td>\n",
              "      <td>Len=0</td>\n",
              "      <td>MSS=1460</td>\n",
              "      <td>NaN</td>\n",
              "    </tr>\n",
              "    <tr>\n",
              "      <th>1970-01-01 00:00:00.000000000</th>\n",
              "      <td>1970-01-01 00:00:00.000000000</td>\n",
              "      <td>172.16.0.8</td>\n",
              "      <td>64.13.134.52</td>\n",
              "      <td>TCP</td>\n",
              "      <td>58</td>\n",
              "      <td>False</td>\n",
              "      <td>36050</td>\n",
              "      <td>199</td>\n",
              "      <td>[SYN]</td>\n",
              "      <td>Seq=0</td>\n",
              "      <td>Win=3072</td>\n",
              "      <td>Len=0</td>\n",
              "      <td>MSS=1460</td>\n",
              "      <td>NaN</td>\n",
              "    </tr>\n",
              "    <tr>\n",
              "      <th>1970-01-01 00:00:00.000000000</th>\n",
              "      <td>1970-01-01 00:00:00.000000000</td>\n",
              "      <td>172.16.0.8</td>\n",
              "      <td>64.13.134.52</td>\n",
              "      <td>TCP</td>\n",
              "      <td>58</td>\n",
              "      <td>False</td>\n",
              "      <td>36050</td>\n",
              "      <td>111</td>\n",
              "      <td>[SYN]</td>\n",
              "      <td>Seq=0</td>\n",
              "      <td>Win=1024</td>\n",
              "      <td>Len=0</td>\n",
              "      <td>MSS=1460</td>\n",
              "      <td>NaN</td>\n",
              "    </tr>\n",
              "    <tr>\n",
              "      <th>...</th>\n",
              "      <td>...</td>\n",
              "      <td>...</td>\n",
              "      <td>...</td>\n",
              "      <td>...</td>\n",
              "      <td>...</td>\n",
              "      <td>...</td>\n",
              "      <td>...</td>\n",
              "      <td>...</td>\n",
              "      <td>...</td>\n",
              "      <td>...</td>\n",
              "      <td>...</td>\n",
              "      <td>...</td>\n",
              "      <td>...</td>\n",
              "      <td>...</td>\n",
              "    </tr>\n",
              "    <tr>\n",
              "      <th>1970-01-01 00:00:00.000000009</th>\n",
              "      <td>1970-01-01 00:00:00.000000009</td>\n",
              "      <td>64.13.134.52</td>\n",
              "      <td>172.16.0.8</td>\n",
              "      <td>TCP</td>\n",
              "      <td>60</td>\n",
              "      <td>True</td>\n",
              "      <td>80</td>\n",
              "      <td>36050</td>\n",
              "      <td>[SYN,ACK]</td>\n",
              "      <td>Seq=0Ack=1</td>\n",
              "      <td>Win=5840</td>\n",
              "      <td>Len=0</td>\n",
              "      <td>MSS=1380</td>\n",
              "      <td>NaN</td>\n",
              "    </tr>\n",
              "    <tr>\n",
              "      <th>1970-01-01 00:00:00.000000011</th>\n",
              "      <td>1970-01-01 00:00:00.000000011</td>\n",
              "      <td>64.13.134.52</td>\n",
              "      <td>172.16.0.8</td>\n",
              "      <td>TCP</td>\n",
              "      <td>60</td>\n",
              "      <td>True</td>\n",
              "      <td>22</td>\n",
              "      <td>36050</td>\n",
              "      <td>[SYN,ACK]</td>\n",
              "      <td>Seq=0Ack=1</td>\n",
              "      <td>Win=5840</td>\n",
              "      <td>Len=0</td>\n",
              "      <td>MSS=1380</td>\n",
              "      <td>NaN</td>\n",
              "    </tr>\n",
              "    <tr>\n",
              "      <th>1970-01-01 00:00:00.000000021</th>\n",
              "      <td>1970-01-01 00:00:00.000000021</td>\n",
              "      <td>64.13.134.52</td>\n",
              "      <td>172.16.0.8</td>\n",
              "      <td>TCP</td>\n",
              "      <td>60</td>\n",
              "      <td>True</td>\n",
              "      <td>53</td>\n",
              "      <td>36050</td>\n",
              "      <td>[SYN,ACK]</td>\n",
              "      <td>Seq=0Ack=1</td>\n",
              "      <td>Win=5840</td>\n",
              "      <td>Len=0</td>\n",
              "      <td>MSS=1380</td>\n",
              "      <td>NaN</td>\n",
              "    </tr>\n",
              "    <tr>\n",
              "      <th>1970-01-01 00:00:00.000000021</th>\n",
              "      <td>1970-01-01 00:00:00.000000021</td>\n",
              "      <td>64.13.134.52</td>\n",
              "      <td>172.16.0.8</td>\n",
              "      <td>TCP</td>\n",
              "      <td>60</td>\n",
              "      <td>True</td>\n",
              "      <td>80</td>\n",
              "      <td>36050</td>\n",
              "      <td>[SYN,ACK]</td>\n",
              "      <td>Seq=0Ack=1</td>\n",
              "      <td>Win=5840</td>\n",
              "      <td>Len=0</td>\n",
              "      <td>MSS=1380</td>\n",
              "      <td>NaN</td>\n",
              "    </tr>\n",
              "    <tr>\n",
              "      <th>1970-01-01 00:00:00.000000023</th>\n",
              "      <td>1970-01-01 00:00:00.000000023</td>\n",
              "      <td>64.13.134.52</td>\n",
              "      <td>172.16.0.8</td>\n",
              "      <td>TCP</td>\n",
              "      <td>60</td>\n",
              "      <td>True</td>\n",
              "      <td>22</td>\n",
              "      <td>36050</td>\n",
              "      <td>[SYN,ACK]</td>\n",
              "      <td>Seq=0Ack=1</td>\n",
              "      <td>Win=5840</td>\n",
              "      <td>Len=0</td>\n",
              "      <td>MSS=1380</td>\n",
              "      <td>NaN</td>\n",
              "    </tr>\n",
              "  </tbody>\n",
              "</table>\n",
              "<p>2011 rows × 14 columns</p>\n",
              "</div>"
            ],
            "text/plain": [
              "                                                       time  ...   10\n",
              "time                                                         ...     \n",
              "1970-01-01 00:00:00.000000000 1970-01-01 00:00:00.000000000  ...  NaN\n",
              "1970-01-01 00:00:00.000000000 1970-01-01 00:00:00.000000000  ...  NaN\n",
              "1970-01-01 00:00:00.000000000 1970-01-01 00:00:00.000000000  ...  NaN\n",
              "1970-01-01 00:00:00.000000000 1970-01-01 00:00:00.000000000  ...  NaN\n",
              "1970-01-01 00:00:00.000000000 1970-01-01 00:00:00.000000000  ...  NaN\n",
              "...                                                     ...  ...  ...\n",
              "1970-01-01 00:00:00.000000009 1970-01-01 00:00:00.000000009  ...  NaN\n",
              "1970-01-01 00:00:00.000000011 1970-01-01 00:00:00.000000011  ...  NaN\n",
              "1970-01-01 00:00:00.000000021 1970-01-01 00:00:00.000000021  ...  NaN\n",
              "1970-01-01 00:00:00.000000021 1970-01-01 00:00:00.000000021  ...  NaN\n",
              "1970-01-01 00:00:00.000000023 1970-01-01 00:00:00.000000023  ...  NaN\n",
              "\n",
              "[2011 rows x 14 columns]"
            ]
          },
          "metadata": {
            "tags": []
          },
          "execution_count": 3
        }
      ]
    },
    {
      "cell_type": "code",
      "metadata": {
        "id": "AShr9RacvSY3",
        "colab": {
          "base_uri": "https://localhost:8080/",
          "height": 195
        },
        "outputId": "6d111949-ee39-4db0-8550-353d797faf6f"
      },
      "source": [
        "df.head()"
      ],
      "execution_count": null,
      "outputs": [
        {
          "output_type": "execute_result",
          "data": {
            "text/html": [
              "<div>\n",
              "<style scoped>\n",
              "    .dataframe tbody tr th:only-of-type {\n",
              "        vertical-align: middle;\n",
              "    }\n",
              "\n",
              "    .dataframe tbody tr th {\n",
              "        vertical-align: top;\n",
              "    }\n",
              "\n",
              "    .dataframe thead th {\n",
              "        text-align: right;\n",
              "    }\n",
              "</style>\n",
              "<table border=\"1\" class=\"dataframe\">\n",
              "  <thead>\n",
              "    <tr style=\"text-align: right;\">\n",
              "      <th></th>\n",
              "      <th>time</th>\n",
              "      <th>source</th>\n",
              "      <th>destination</th>\n",
              "      <th>protocol</th>\n",
              "      <th>length</th>\n",
              "      <th>tcp_retransmission</th>\n",
              "      <th>srcport</th>\n",
              "      <th>dstport</th>\n",
              "      <th>flags</th>\n",
              "      <th>seq_ack</th>\n",
              "      <th>win</th>\n",
              "      <th>len</th>\n",
              "      <th>mss</th>\n",
              "      <th>10</th>\n",
              "    </tr>\n",
              "  </thead>\n",
              "  <tbody>\n",
              "    <tr>\n",
              "      <th>0</th>\n",
              "      <td>1970-01-01</td>\n",
              "      <td>172.16.0.8</td>\n",
              "      <td>64.13.134.52</td>\n",
              "      <td>TCP</td>\n",
              "      <td>58</td>\n",
              "      <td>False</td>\n",
              "      <td>36050</td>\n",
              "      <td>443</td>\n",
              "      <td>[SYN]</td>\n",
              "      <td>Seq=0</td>\n",
              "      <td>Win=3072</td>\n",
              "      <td>Len=0</td>\n",
              "      <td>MSS=1460</td>\n",
              "      <td>NaN</td>\n",
              "    </tr>\n",
              "    <tr>\n",
              "      <th>1</th>\n",
              "      <td>1970-01-01</td>\n",
              "      <td>172.16.0.8</td>\n",
              "      <td>64.13.134.52</td>\n",
              "      <td>TCP</td>\n",
              "      <td>58</td>\n",
              "      <td>False</td>\n",
              "      <td>36050</td>\n",
              "      <td>143</td>\n",
              "      <td>[SYN]</td>\n",
              "      <td>Seq=0</td>\n",
              "      <td>Win=3072</td>\n",
              "      <td>Len=0</td>\n",
              "      <td>MSS=1460</td>\n",
              "      <td>NaN</td>\n",
              "    </tr>\n",
              "    <tr>\n",
              "      <th>2</th>\n",
              "      <td>1970-01-01</td>\n",
              "      <td>172.16.0.8</td>\n",
              "      <td>64.13.134.52</td>\n",
              "      <td>TCP</td>\n",
              "      <td>58</td>\n",
              "      <td>False</td>\n",
              "      <td>36050</td>\n",
              "      <td>3306</td>\n",
              "      <td>[SYN]</td>\n",
              "      <td>Seq=0</td>\n",
              "      <td>Win=2048</td>\n",
              "      <td>Len=0</td>\n",
              "      <td>MSS=1460</td>\n",
              "      <td>NaN</td>\n",
              "    </tr>\n",
              "    <tr>\n",
              "      <th>3</th>\n",
              "      <td>1970-01-01</td>\n",
              "      <td>172.16.0.8</td>\n",
              "      <td>64.13.134.52</td>\n",
              "      <td>TCP</td>\n",
              "      <td>58</td>\n",
              "      <td>False</td>\n",
              "      <td>36050</td>\n",
              "      <td>199</td>\n",
              "      <td>[SYN]</td>\n",
              "      <td>Seq=0</td>\n",
              "      <td>Win=3072</td>\n",
              "      <td>Len=0</td>\n",
              "      <td>MSS=1460</td>\n",
              "      <td>NaN</td>\n",
              "    </tr>\n",
              "    <tr>\n",
              "      <th>4</th>\n",
              "      <td>1970-01-01</td>\n",
              "      <td>172.16.0.8</td>\n",
              "      <td>64.13.134.52</td>\n",
              "      <td>TCP</td>\n",
              "      <td>58</td>\n",
              "      <td>False</td>\n",
              "      <td>36050</td>\n",
              "      <td>111</td>\n",
              "      <td>[SYN]</td>\n",
              "      <td>Seq=0</td>\n",
              "      <td>Win=1024</td>\n",
              "      <td>Len=0</td>\n",
              "      <td>MSS=1460</td>\n",
              "      <td>NaN</td>\n",
              "    </tr>\n",
              "  </tbody>\n",
              "</table>\n",
              "</div>"
            ],
            "text/plain": [
              "        time      source   destination protocol  ...       win    len       mss   10\n",
              "0 1970-01-01  172.16.0.8  64.13.134.52      TCP  ...  Win=3072  Len=0  MSS=1460  NaN\n",
              "1 1970-01-01  172.16.0.8  64.13.134.52      TCP  ...  Win=3072  Len=0  MSS=1460  NaN\n",
              "2 1970-01-01  172.16.0.8  64.13.134.52      TCP  ...  Win=2048  Len=0  MSS=1460  NaN\n",
              "3 1970-01-01  172.16.0.8  64.13.134.52      TCP  ...  Win=3072  Len=0  MSS=1460  NaN\n",
              "4 1970-01-01  172.16.0.8  64.13.134.52      TCP  ...  Win=1024  Len=0  MSS=1460  NaN\n",
              "\n",
              "[5 rows x 14 columns]"
            ]
          },
          "metadata": {
            "tags": []
          },
          "execution_count": 4
        }
      ]
    },
    {
      "cell_type": "markdown",
      "metadata": {
        "id": "5G3CpVt3vSY3"
      },
      "source": [
        "# Задание"
      ]
    },
    {
      "cell_type": "markdown",
      "metadata": {
        "id": "kY4dr_ZVvSY4"
      },
      "source": [
        "1. Определите все уникальные протоколы, которые встречаются в сетевом трафике:"
      ]
    },
    {
      "cell_type": "code",
      "metadata": {
        "id": "CQTPBDbYvSY4",
        "colab": {
          "base_uri": "https://localhost:8080/"
        },
        "outputId": "9a0abc29-3d68-4fa2-be29-69c27163d86d"
      },
      "source": [
        "df[\"protocol\"].unique()"
      ],
      "execution_count": null,
      "outputs": [
        {
          "output_type": "execute_result",
          "data": {
            "text/plain": [
              "array(['TCP'], dtype=object)"
            ]
          },
          "metadata": {
            "tags": []
          },
          "execution_count": 5
        }
      ]
    },
    {
      "cell_type": "markdown",
      "metadata": {
        "id": "AxRYtNylvSY4"
      },
      "source": [
        "2. Определите все уникальные сетевые порты, которые встречаются в сетевом трафике:"
      ]
    },
    {
      "cell_type": "code",
      "metadata": {
        "id": "l4kskuaEvSY4",
        "colab": {
          "base_uri": "https://localhost:8080/"
        },
        "outputId": "2fa8ad85-08cb-41c6-b022-2762bbad0bef"
      },
      "source": [
        "df[\"srcport\"].unique()"
      ],
      "execution_count": null,
      "outputs": [
        {
          "output_type": "execute_result",
          "data": {
            "text/plain": [
              "array([36050,    53,   113,    80, 36051,    22,    25, 31337, 36061,\n",
              "          70])"
            ]
          },
          "metadata": {
            "tags": []
          },
          "execution_count": 6
        }
      ]
    },
    {
      "cell_type": "code",
      "metadata": {
        "id": "eOJ-wj2gwNvo",
        "colab": {
          "base_uri": "https://localhost:8080/"
        },
        "outputId": "9fa1ae06-15a1-4141-8ea5-74165b76fbdc"
      },
      "source": [
        "df[\"dstport\"].unique()"
      ],
      "execution_count": null,
      "outputs": [
        {
          "output_type": "execute_result",
          "data": {
            "text/plain": [
              "array([  443,   143,  3306, ...,   512, 49157,  3261])"
            ]
          },
          "metadata": {
            "tags": []
          },
          "execution_count": 10
        }
      ]
    },
    {
      "cell_type": "markdown",
      "metadata": {
        "id": "PsUpFD2JvSY5"
      },
      "source": [
        "3. Определите количественное распределение сетевых портов в сетевом трафике (постройте график вида гистограмма):"
      ]
    },
    {
      "cell_type": "code",
      "metadata": {
        "id": "7hvDE5AIvSY5",
        "colab": {
          "base_uri": "https://localhost:8080/"
        },
        "outputId": "15524913-9162-4abe-cf65-3b0e811a1dd8"
      },
      "source": [
        "df['srcport'].value_counts()"
      ],
      "execution_count": null,
      "outputs": [
        {
          "output_type": "execute_result",
          "data": {
            "text/plain": [
              "36050    1000\n",
              "36051     993\n",
              "80          4\n",
              "53          4\n",
              "22          4\n",
              "113         2\n",
              "36061       1\n",
              "31337       1\n",
              "70          1\n",
              "25          1\n",
              "Name: srcport, dtype: int64"
            ]
          },
          "metadata": {
            "tags": []
          },
          "execution_count": 11
        }
      ]
    },
    {
      "cell_type": "code",
      "metadata": {
        "id": "SMm8B-ziwGEZ",
        "colab": {
          "base_uri": "https://localhost:8080/",
          "height": 304
        },
        "outputId": "178c72cf-c68d-4f7e-e54d-56deab33f5ca"
      },
      "source": [
        "srcports = df['srcport'].value_counts().head(10)\r\n",
        "srcports.plot.bar()"
      ],
      "execution_count": null,
      "outputs": [
        {
          "output_type": "execute_result",
          "data": {
            "text/plain": [
              "<matplotlib.axes._subplots.AxesSubplot at 0x7fd56d89e2e8>"
            ]
          },
          "metadata": {
            "tags": []
          },
          "execution_count": 12
        },
        {
          "output_type": "display_data",
          "data": {
            "image/png": "[encoded data removed]",
            "text/plain": [
              "<Figure size 432x288 with 1 Axes>"
            ]
          },
          "metadata": {
            "tags": [],
            "needs_background": "light"
          }
        }
      ]
    },
    {
      "cell_type": "code",
      "metadata": {
        "id": "QcW7Fuo7wVzu",
        "colab": {
          "base_uri": "https://localhost:8080/"
        },
        "outputId": "46cecd5c-cc16-4219-fa3d-8945f0fb87ed"
      },
      "source": [
        "df['dstport'].value_counts()"
      ],
      "execution_count": null,
      "outputs": [
        {
          "output_type": "execute_result",
          "data": {
            "text/plain": [
              "36050    16\n",
              "2047      2\n",
              "4848      2\n",
              "801       2\n",
              "800       2\n",
              "         ..\n",
              "22        1\n",
              "70        1\n",
              "53        1\n",
              "36061     1\n",
              "31337     1\n",
              "Name: dstport, Length: 1002, dtype: int64"
            ]
          },
          "metadata": {
            "tags": []
          },
          "execution_count": 13
        }
      ]
    },
    {
      "cell_type": "code",
      "metadata": {
        "id": "W-dHo4h9wYHa",
        "colab": {
          "base_uri": "https://localhost:8080/",
          "height": 304
        },
        "outputId": "4c3aefa7-f250-4400-a881-30b815334dd6"
      },
      "source": [
        "dstports = df['dstport'].value_counts().head(10)\r\n",
        "dstports.plot.bar()"
      ],
      "execution_count": null,
      "outputs": [
        {
          "output_type": "execute_result",
          "data": {
            "text/plain": [
              "<matplotlib.axes._subplots.AxesSubplot at 0x7fd56d778550>"
            ]
          },
          "metadata": {
            "tags": []
          },
          "execution_count": 14
        },
        {
          "output_type": "display_data",
          "data": {
            "image/png": "[encoded data removed]",
            "text/plain": [
              "<Figure size 432x288 with 1 Axes>"
            ]
          },
          "metadata": {
            "tags": [],
            "needs_background": "light"
          }
        }
      ]
    },
    {
      "cell_type": "markdown",
      "metadata": {
        "id": "Ro7lWz2nvSY5"
      },
      "source": [
        "4. Определите IP-адреса и сетевые порты, для которых установлен флаг tcp_retransmission:"
      ]
    },
    {
      "cell_type": "code",
      "metadata": {
        "id": "vyxLt_96vSY5",
        "colab": {
          "base_uri": "https://localhost:8080/",
          "height": 314
        },
        "outputId": "24e47ec4-fb73-4cc8-cf3e-4c9f2f0c980c"
      },
      "source": [
        "df[df.tcp_retransmission==True]"
      ],
      "execution_count": null,
      "outputs": [
        {
          "output_type": "execute_result",
          "data": {
            "text/html": [
              "<div>\n",
              "<style scoped>\n",
              "    .dataframe tbody tr th:only-of-type {\n",
              "        vertical-align: middle;\n",
              "    }\n",
              "\n",
              "    .dataframe tbody tr th {\n",
              "        vertical-align: top;\n",
              "    }\n",
              "\n",
              "    .dataframe thead th {\n",
              "        text-align: right;\n",
              "    }\n",
              "</style>\n",
              "<table border=\"1\" class=\"dataframe\">\n",
              "  <thead>\n",
              "    <tr style=\"text-align: right;\">\n",
              "      <th></th>\n",
              "      <th>time</th>\n",
              "      <th>source</th>\n",
              "      <th>destination</th>\n",
              "      <th>protocol</th>\n",
              "      <th>length</th>\n",
              "      <th>tcp_retransmission</th>\n",
              "      <th>srcport</th>\n",
              "      <th>dstport</th>\n",
              "      <th>flags</th>\n",
              "      <th>seq_ack</th>\n",
              "      <th>win</th>\n",
              "      <th>len</th>\n",
              "      <th>mss</th>\n",
              "      <th>10</th>\n",
              "    </tr>\n",
              "  </thead>\n",
              "  <tbody>\n",
              "    <tr>\n",
              "      <th>528</th>\n",
              "      <td>1970-01-01 00:00:00.000000003</td>\n",
              "      <td>64.13.134.52</td>\n",
              "      <td>172.16.0.8</td>\n",
              "      <td>TCP</td>\n",
              "      <td>60</td>\n",
              "      <td>True</td>\n",
              "      <td>53</td>\n",
              "      <td>36050</td>\n",
              "      <td>[SYN,ACK]</td>\n",
              "      <td>Seq=0Ack=1</td>\n",
              "      <td>Win=5840</td>\n",
              "      <td>Len=0</td>\n",
              "      <td>MSS=1380</td>\n",
              "      <td>NaN</td>\n",
              "    </tr>\n",
              "    <tr>\n",
              "      <th>631</th>\n",
              "      <td>1970-01-01 00:00:00.000000003</td>\n",
              "      <td>64.13.134.52</td>\n",
              "      <td>172.16.0.8</td>\n",
              "      <td>TCP</td>\n",
              "      <td>60</td>\n",
              "      <td>True</td>\n",
              "      <td>80</td>\n",
              "      <td>36050</td>\n",
              "      <td>[SYN,ACK]</td>\n",
              "      <td>Seq=0Ack=1</td>\n",
              "      <td>Win=5840</td>\n",
              "      <td>Len=0</td>\n",
              "      <td>MSS=1380</td>\n",
              "      <td>NaN</td>\n",
              "    </tr>\n",
              "    <tr>\n",
              "      <th>1962</th>\n",
              "      <td>1970-01-01 00:00:00.000000005</td>\n",
              "      <td>64.13.134.52</td>\n",
              "      <td>172.16.0.8</td>\n",
              "      <td>TCP</td>\n",
              "      <td>60</td>\n",
              "      <td>True</td>\n",
              "      <td>22</td>\n",
              "      <td>36050</td>\n",
              "      <td>[SYN,ACK]</td>\n",
              "      <td>Seq=0Ack=1</td>\n",
              "      <td>Win=5840</td>\n",
              "      <td>Len=0</td>\n",
              "      <td>MSS=1380</td>\n",
              "      <td>NaN</td>\n",
              "    </tr>\n",
              "    <tr>\n",
              "      <th>2005</th>\n",
              "      <td>1970-01-01 00:00:00.000000009</td>\n",
              "      <td>64.13.134.52</td>\n",
              "      <td>172.16.0.8</td>\n",
              "      <td>TCP</td>\n",
              "      <td>60</td>\n",
              "      <td>True</td>\n",
              "      <td>53</td>\n",
              "      <td>36050</td>\n",
              "      <td>[SYN,ACK]</td>\n",
              "      <td>Seq=0Ack=1</td>\n",
              "      <td>Win=5840</td>\n",
              "      <td>Len=0</td>\n",
              "      <td>MSS=1380</td>\n",
              "      <td>NaN</td>\n",
              "    </tr>\n",
              "    <tr>\n",
              "      <th>2006</th>\n",
              "      <td>1970-01-01 00:00:00.000000009</td>\n",
              "      <td>64.13.134.52</td>\n",
              "      <td>172.16.0.8</td>\n",
              "      <td>TCP</td>\n",
              "      <td>60</td>\n",
              "      <td>True</td>\n",
              "      <td>80</td>\n",
              "      <td>36050</td>\n",
              "      <td>[SYN,ACK]</td>\n",
              "      <td>Seq=0Ack=1</td>\n",
              "      <td>Win=5840</td>\n",
              "      <td>Len=0</td>\n",
              "      <td>MSS=1380</td>\n",
              "      <td>NaN</td>\n",
              "    </tr>\n",
              "    <tr>\n",
              "      <th>2007</th>\n",
              "      <td>1970-01-01 00:00:00.000000011</td>\n",
              "      <td>64.13.134.52</td>\n",
              "      <td>172.16.0.8</td>\n",
              "      <td>TCP</td>\n",
              "      <td>60</td>\n",
              "      <td>True</td>\n",
              "      <td>22</td>\n",
              "      <td>36050</td>\n",
              "      <td>[SYN,ACK]</td>\n",
              "      <td>Seq=0Ack=1</td>\n",
              "      <td>Win=5840</td>\n",
              "      <td>Len=0</td>\n",
              "      <td>MSS=1380</td>\n",
              "      <td>NaN</td>\n",
              "    </tr>\n",
              "    <tr>\n",
              "      <th>2008</th>\n",
              "      <td>1970-01-01 00:00:00.000000021</td>\n",
              "      <td>64.13.134.52</td>\n",
              "      <td>172.16.0.8</td>\n",
              "      <td>TCP</td>\n",
              "      <td>60</td>\n",
              "      <td>True</td>\n",
              "      <td>53</td>\n",
              "      <td>36050</td>\n",
              "      <td>[SYN,ACK]</td>\n",
              "      <td>Seq=0Ack=1</td>\n",
              "      <td>Win=5840</td>\n",
              "      <td>Len=0</td>\n",
              "      <td>MSS=1380</td>\n",
              "      <td>NaN</td>\n",
              "    </tr>\n",
              "    <tr>\n",
              "      <th>2009</th>\n",
              "      <td>1970-01-01 00:00:00.000000021</td>\n",
              "      <td>64.13.134.52</td>\n",
              "      <td>172.16.0.8</td>\n",
              "      <td>TCP</td>\n",
              "      <td>60</td>\n",
              "      <td>True</td>\n",
              "      <td>80</td>\n",
              "      <td>36050</td>\n",
              "      <td>[SYN,ACK]</td>\n",
              "      <td>Seq=0Ack=1</td>\n",
              "      <td>Win=5840</td>\n",
              "      <td>Len=0</td>\n",
              "      <td>MSS=1380</td>\n",
              "      <td>NaN</td>\n",
              "    </tr>\n",
              "    <tr>\n",
              "      <th>2010</th>\n",
              "      <td>1970-01-01 00:00:00.000000023</td>\n",
              "      <td>64.13.134.52</td>\n",
              "      <td>172.16.0.8</td>\n",
              "      <td>TCP</td>\n",
              "      <td>60</td>\n",
              "      <td>True</td>\n",
              "      <td>22</td>\n",
              "      <td>36050</td>\n",
              "      <td>[SYN,ACK]</td>\n",
              "      <td>Seq=0Ack=1</td>\n",
              "      <td>Win=5840</td>\n",
              "      <td>Len=0</td>\n",
              "      <td>MSS=1380</td>\n",
              "      <td>NaN</td>\n",
              "    </tr>\n",
              "  </tbody>\n",
              "</table>\n",
              "</div>"
            ],
            "text/plain": [
              "                              time        source  ...       mss   10\n",
              "528  1970-01-01 00:00:00.000000003  64.13.134.52  ...  MSS=1380  NaN\n",
              "631  1970-01-01 00:00:00.000000003  64.13.134.52  ...  MSS=1380  NaN\n",
              "1962 1970-01-01 00:00:00.000000005  64.13.134.52  ...  MSS=1380  NaN\n",
              "2005 1970-01-01 00:00:00.000000009  64.13.134.52  ...  MSS=1380  NaN\n",
              "2006 1970-01-01 00:00:00.000000009  64.13.134.52  ...  MSS=1380  NaN\n",
              "2007 1970-01-01 00:00:00.000000011  64.13.134.52  ...  MSS=1380  NaN\n",
              "2008 1970-01-01 00:00:00.000000021  64.13.134.52  ...  MSS=1380  NaN\n",
              "2009 1970-01-01 00:00:00.000000021  64.13.134.52  ...  MSS=1380  NaN\n",
              "2010 1970-01-01 00:00:00.000000023  64.13.134.52  ...  MSS=1380  NaN\n",
              "\n",
              "[9 rows x 14 columns]"
            ]
          },
          "metadata": {
            "tags": []
          },
          "execution_count": 15
        }
      ]
    },
    {
      "cell_type": "markdown",
      "metadata": {
        "id": "BIbLAO0hvSY6"
      },
      "source": [
        "5. Определите все уникальные IP-адреса источника и назначения в сетевом  трафике:"
      ]
    },
    {
      "cell_type": "code",
      "metadata": {
        "id": "ZcVc1OmRvSY6",
        "colab": {
          "base_uri": "https://localhost:8080/"
        },
        "outputId": "01275357-7e2c-4ed1-ee63-283d638884d3"
      },
      "source": [
        "df[\"source\"].unique()"
      ],
      "execution_count": null,
      "outputs": [
        {
          "output_type": "execute_result",
          "data": {
            "text/plain": [
              "array(['172.16.0.8', '64.13.134.52'], dtype=object)"
            ]
          },
          "metadata": {
            "tags": []
          },
          "execution_count": 16
        }
      ]
    },
    {
      "cell_type": "code",
      "metadata": {
        "id": "DmyVJf0LwfHu",
        "colab": {
          "base_uri": "https://localhost:8080/"
        },
        "outputId": "813f451f-92a1-4ea4-b3c7-e8c750168556"
      },
      "source": [
        "df[\"destination\"].unique()"
      ],
      "execution_count": null,
      "outputs": [
        {
          "output_type": "execute_result",
          "data": {
            "text/plain": [
              "array(['64.13.134.52', '172.16.0.8'], dtype=object)"
            ]
          },
          "metadata": {
            "tags": []
          },
          "execution_count": 17
        }
      ]
    }
  ]
}