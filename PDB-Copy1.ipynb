{
 "cells": [
  {
   "cell_type": "markdown",
   "metadata": {},
   "source": [
    "# Модуль pdb"
   ]
  },
  {
   "cell_type": "markdown",
   "metadata": {},
   "source": [
    "Модуль pdb реализует интерактивную среду отладки для программ на языке Python. Он поддерживает приостановку выполнения программы, просмотр значений переменных и выполнение программы в пошаговом режиме, тем самым предоставляя возможность разобраться в том, что именно делает код, и найти ошибки в логике работы программы."
   ]
  },
  {
   "cell_type": "markdown",
   "metadata": {},
   "source": [
    "## 1.Запуск отладчика"
   ]
  },
  {
   "cell_type": "markdown",
   "metadata": {},
   "source": [
    "Первое, что необходимо сделать, прежде чем приступить к работе c модулем pdb, — это заставить интерпретатор в нужный момент перейти в режим отладки.В зависимости от условий запуска отладчика и объекта отладки это можно сделать несколькими способами."
   ]
  },
  {
   "cell_type": "markdown",
   "metadata": {},
   "source": [
    "### 1.1 Вызов отладчика из командной строки"
   ]
  },
  {
   "cell_type": "markdown",
   "metadata": {},
   "source": [
    "Самым непосредственным способом использования отладчика является его вызов из командной строки c указанием программы, подлежащей выполнению."
   ]
  },
  {
   "cell_type": "code",
   "execution_count": null,
   "metadata": {},
   "outputs": [],
   "source": [
    "class MyObj:\n",
    "\n",
    "    def __init__(self, num_loops):\n",
    "        self.count = num_loops\n",
    "\n",
    "    def go(self):\n",
    "        for i in range(self.count):\n",
    "            print(i)\n",
    "        return\n",
    "\n",
    "if __name__ == '__main__':\n",
    "    MyObj(5).go()"
   ]
  },
  {
   "cell_type": "markdown",
   "metadata": {},
   "source": [
    "Запуск отладчика из командной строки заставляет его загружать исходный файл и останавливать выполнение на первом найденном операторе. В этом случае он останавливается перед обработкой определения класса MyObj"
   ]
  },
  {
   "cell_type": "markdown",
   "metadata": {},
   "source": [
    "### 1.2 Вызов отладчика из интерпретатора"
   ]
  },
  {
   "cell_type": "markdown",
   "metadata": {},
   "source": [
    "В процессе разработки ранних версий модулей многие разработчики используют интерактивную оболочку интерпретатора,обеспечивающую более удобный итеративный способ выполнения команд, не требующий применения циклов типа “сохранить/выполнить/повторить”,которые приходится использовать в автономных сценариях. Для вызова отладчика из интерактивного интерпретатора следует использовать функцию run () или runeval ()."
   ]
  },
  {
   "cell_type": "code",
   "execution_count": null,
   "metadata": {},
   "outputs": [
    {
     "name": "stdout",
     "output_type": "stream",
     "text": [
      "> \u001b[1;32m<string>\u001b[0m(1)\u001b[0;36m<module>\u001b[1;34m()\u001b[0m\n",
      "\n"
     ]
    }
   ],
   "source": [
    "import pdb\n",
    "pdb.run('pdb_script.MyObj(5).go()')\n",
    "string(1)\n",
    "module()\n",
    "(Pdb)"
   ]
  },
  {
   "cell_type": "markdown",
   "metadata": {},
   "source": [
    "Аргументом функции run () служит строковое выражение, которое может быть вычислено интерпретатором Python. Отладчик анализирует его, а затем приостанавливает выполнение непосредственно перед вычислением первого выражения."
   ]
  },
  {
   "cell_type": "markdown",
   "metadata": {},
   "source": [
    "### 1.3 Вызов отладчика из программы"
   ]
  },
  {
   "cell_type": "markdown",
   "metadata": {},
   "source": [
    "В обоих предыдущих примерах отладчик запускался в начале программы.Однако в случае длительно выполняющихся процессов, когда проблема может проявиться на поздних стадиях выполнения, гораздо удобнее запускать отладчик из программы c помощью функции set_trace ()."
   ]
  },
  {
   "cell_type": "code",
   "execution_count": null,
   "metadata": {},
   "outputs": [],
   "source": [
    "import pdb\n",
    "\n",
    "\n",
    "class MyObj:\n",
    "\n",
    "    def __init__(self, num_loops):\n",
    "        self.count = num_loops\n",
    "\n",
    "    def go(self):\n",
    "        for i in range(self.count):\n",
    "            pdb.set_trace()\n",
    "            print(i)\n",
    "        return\n",
    "\n",
    "if __name__ == '__main__':\n",
    "    MyObj(5).go()"
   ]
  },
  {
   "cell_type": "markdown",
   "metadata": {},
   "source": [
    "Функция set_trace () — обычная функция Python, которая может быть вызвана в любой точке программы. Отсюда следует, что вход в отладчик может осуществляться на основании некоторых условий, в том числе посредством обработчика исключений или определенной ветви условной инструкции."
   ]
  },
  {
   "cell_type": "markdown",
   "metadata": {},
   "source": [
    "## 2. Управление отладчиком"
   ]
  },
  {
   "cell_type": "markdown",
   "metadata": {},
   "source": [
    "Интерфейс для работы c отладчиком — это язык команд, позволяющих перемещаться по стеку вызовов, исследовать и изменять значения переменных, а также выполнять программу под управлением отладчика. Интерактивный отладчик использует модуль readline  для получения команд и поддерживает завершение команд, имен файлов и функций c помощью клавиши <Tab>. Ввод пустой строки означает повторное выполнение предыдущей команды, если только она не представляет собой операцию над списком."
   ]
  },
  {
   "cell_type": "markdown",
   "metadata": {},
   "source": [
    "### 2.1. Перемещение по стеку вызовов"
   ]
  },
  {
   "cell_type": "markdown",
   "metadata": {},
   "source": [
    "Когда запущен отладчик, команда where (сокращенно — w) обеспечивает точное определение выполняющейся в данный момент строки кода и соответствующей позиции в стеке вызовов. В данном случае выполнение программы останавливается в строке 18 метода go () модуля pdb_set__trace. py."
   ]
  },
  {
   "cell_type": "code",
   "execution_count": null,
   "metadata": {},
   "outputs": [],
   "source": [
    "\n",
    "> .../pdb_set_trace.py(18)go()\n",
    "-> print(i)\n",
    "(Pdb) where\n",
    "  .../pdb_set_trace.py(22)<module>()\n",
    "-> MyObj(5).go()\n",
    "> .../pdb_set_trace.py(18)go()\n",
    "-> print(i)\n",
    "(Pdb)"
   ]
  },
  {
   "cell_type": "markdown",
   "metadata": {},
   "source": [
    "Чтобы добавить контекст, окружающий текущую позицию в коде, следует использовать команду list (1)."
   ]
  },
  {
   "cell_type": "code",
   "execution_count": null,
   "metadata": {},
   "outputs": [],
   "source": [
    "(Pdb) l\n",
    " 13          self.count = num_loops\n",
    " 14\n",
    " 15      def go(self):\n",
    " 16          for i in range(self.count):\n",
    " 17              pdb.set_trace()\n",
    " 18  ->          print(i)\n",
    " 19          return\n",
    " 20\n",
    " 21  if __name__ == '__main__':\n",
    " 22      MyObj(5).go()\n",
    "[EOF]\n",
    "(Pdb)"
   ]
  },
  {
   "cell_type": "markdown",
   "metadata": {},
   "source": [
    "По умолчанию вокруг текущей строки отображается 11 строк (пять до и пять после). Использование listс одним числовым аргументом выводит 11 строк вокруг этой строки вместо текущей строки."
   ]
  },
  {
   "cell_type": "code",
   "execution_count": null,
   "metadata": {},
   "outputs": [],
   "source": [
    "  9\n",
    " 10  class MyObj(object):\n",
    " 11\n",
    " 12      def __init__(self, num_loops):\n",
    " 13          self.count = num_loops\n",
    " 14\n",
    " 15      def go(self):\n",
    " 16          for i in range(self.count):\n",
    " 17              pdb.set_trace()\n",
    " 18  ->          print(i)\n",
    " 19          return"
   ]
  },
  {
   "cell_type": "markdown",
   "metadata": {},
   "source": [
    "Если list получает два аргумента, он интерпретирует их как первую и последнюю строки для включения в свой вывод."
   ]
  },
  {
   "cell_type": "code",
   "execution_count": null,
   "metadata": {},
   "outputs": [],
   "source": [
    "(Pdb) list 7, 19\n",
    "  7  import pdb\n",
    "  8\n",
    "  9\n",
    " 10  class MyObj(object):\n",
    " 11\n",
    " 12      def __init__(self, num_loops):\n",
    " 13          self.count = num_loops\n",
    " 14\n",
    " 15      def go(self):\n",
    " 16          for i in range(self.count):\n",
    " 17              pdb.set_trace()\n",
    " 18  ->          print(i)\n",
    " 19          return"
   ]
  },
  {
   "cell_type": "markdown",
   "metadata": {},
   "source": [
    "Команда longlist (11) выводит исходный код текущей функции или фрейма без указания номеров строк. Ее название “longlist” (“длинный список”) объясняется тем, что размер ее вывода может значительно превышать тот, который предусмотрен по умолчанию для команды list."
   ]
  },
  {
   "cell_type": "code",
   "execution_count": null,
   "metadata": {},
   "outputs": [],
   "source": [
    "(Pdb) longlist\n",
    " 15      def go(self):\n",
    " 16          for i in range(self.count):\n",
    " 17              pdb.set_trace()\n",
    " 18  ->          print(i)\n",
    " 19          return"
   ]
  },
  {
   "cell_type": "markdown",
   "metadata": {},
   "source": [
    "Команда source загружает и выводит на экран весь исходный программный код для произвольного класса, функции или модуля."
   ]
  },
  {
   "cell_type": "code",
   "execution_count": null,
   "metadata": {},
   "outputs": [],
   "source": [
    "(Pdb) source MyObj\n",
    " 10  class MyObj:\n",
    " 11\n",
    " 12      def __init__(self, num_loops):\n",
    " 13          self.count = num_loops\n",
    " 14\n",
    " 15      def go(self):\n",
    " 16          for i in range(self.count):\n",
    " 17              pdb.set_trace()\n",
    " 18              print(i)\n",
    " 19          return"
   ]
  },
  {
   "cell_type": "markdown",
   "metadata": {},
   "source": [
    "Для перемещения между фреймами в пределах текущего стека вызовов используются команды up и down. Команда up (сокращенно — u) выполняет перемещение по стеку в направлении к более ранним фреймам, команда down (d) — к более поздним фреймам. При каждом перемещении вверх или вниз по стеку отладчик выводит текущий фрейм в том же формате, что и при выводе c помощью команды where."
   ]
  },
  {
   "cell_type": "markdown",
   "metadata": {},
   "source": [
    "Числовой аргумент, передаваемый любой из команд up и down, указывает, на какое количество уровней следует переместиться в соответствующем направлении за один раз."
   ]
  },
  {
   "cell_type": "markdown",
   "metadata": {},
   "source": [
    "### 2.2. Исследование переменных стеке"
   ]
  },
  {
   "cell_type": "markdown",
   "metadata": {},
   "source": [
    "Каждый фрейм в стеке поддерживает набор переменных, включая как локальные переменные выполняемой функции, так и глобальную информацию о состоянии. Модуль pdb предоставляет несколько способов исследования содержимого этих переменных."
   ]
  },
  {
   "cell_type": "code",
   "execution_count": null,
   "metadata": {},
   "outputs": [],
   "source": [
    "import pdb\n",
    "\n",
    "\n",
    "def recursive_function(n=5, output='to be printed'):\n",
    "    if n > 0:\n",
    "        recursive_function(n - 1)\n",
    "    else:\n",
    "        pdb.set_trace()\n",
    "        print(output)\n",
    "    return\n",
    "\n",
    "if __name__ == '__main__':\n",
    "    recursive_function()"
   ]
  },
  {
   "cell_type": "markdown",
   "metadata": {},
   "source": [
    "Команда args (сокращено — а) выводит все аргументы функции, активные в текущем фрейме. Кроме того, чтобы продемонстрировать, как выглядит более глубокий стек при выводе его содержимого, в этом примере используется рекурсивная функция."
   ]
  },
  {
   "cell_type": "code",
   "execution_count": null,
   "metadata": {},
   "outputs": [],
   "source": [
    "\n",
    "> .../pdb_function_arguments.py(15)recursive_function()\n",
    "-> print(output)\n",
    "(Pdb) where\n",
    "  .../pdb_function_arguments.py(19)<module>()\n",
    "-> recursive_function()\n",
    "  .../pdb_function_arguments.py(12)recursive_function()\n",
    "-> recursive_function(n - 1)\n",
    "  .../pdb_function_arguments.py(12)recursive_function()\n",
    "-> recursive_function(n - 1)\n",
    "  .../pdb_function_arguments.py(12)recursive_function()\n",
    "-> recursive_function(n - 1)\n",
    "  .../pdb_function_arguments.py(12)recursive_function()\n",
    "-> recursive_function(n - 1)\n",
    "  .../pdb_function_arguments.py(12)recursive_function()\n",
    "-> recursive_function(n - 1)\n",
    "> .../pdb_function_arguments.py(15)recursive_function()\n",
    "-> print(output)\n",
    "\n",
    "(Pdb) args\n",
    "n = 0\n",
    "output = to be printed\n",
    "\n",
    "(Pdb) up\n",
    "> .../pdb_function_arguments.py(12)recursive_function()\n",
    "-> recursive_function(n - 1)\n",
    "\n",
    "(Pdb) args\n",
    "n = 1\n",
    "output = to be printed"
   ]
  },
  {
   "cell_type": "markdown",
   "metadata": {},
   "source": [
    "Команда p вычисляет выражение, предоставленное в качестве аргумента, и выводит результат. Доступна также функция print (), но вместо того чтобы выполняться в качестве команды отладчика, оиа передается для выполнения интерпретатору."
   ]
  },
  {
   "cell_type": "code",
   "execution_count": null,
   "metadata": {},
   "outputs": [],
   "source": [
    "(Pdb) p n\n",
    "1\n",
    "\n",
    "(Pdb) print(n)\n",
    "1"
   ]
  },
  {
   "cell_type": "markdown",
   "metadata": {},
   "source": [
    "Аналогичным образом, если выражению предшествует символ !, оно передается для вычисления интерпретатору Python. Это можно использовать для вычисления произвольных выражений Python, включая изменение переменных. В следующем примере, перед тем как позволить отладчику продолжить выполнение программы, изменяется значение переменной output. Инструкция, которая следует за вызовом set_trace (), выводит на печать переменную output, отображая ее измененное значение."
   ]
  },
  {
   "cell_type": "code",
   "execution_count": null,
   "metadata": {},
   "outputs": [],
   "source": [
    "\n",
    "\n",
    "> .../pdb_function_arguments.py(14)recursive_function()\n",
    "-> print(output)\n",
    "\n",
    "(Pdb) !output\n",
    "'to be printed'\n",
    "\n",
    "(Pdb) !output='changed value'\n",
    "\n",
    "(Pdb) continue\n",
    "changed value"
   ]
  },
  {
   "cell_type": "markdown",
   "metadata": {},
   "source": [
    "В случае более сложных значений, таких как вложенные или крупные структуры данных, для их вывода следует использовать команду “красивой” печати pp. В следующей программе выполняется чтение нескольких строк из файла."
   ]
  },
  {
   "cell_type": "code",
   "execution_count": null,
   "metadata": {},
   "outputs": [],
   "source": [
    "import pdb\n",
    "\n",
    "with open('lorem.txt', 'rt') as f:\n",
    "    lines = f.readlines()\n",
    "\n",
    "pdb.set_trace()"
   ]
  },
  {
   "cell_type": "markdown",
   "metadata": {},
   "source": [
    "Вывод переменной lines, получаемый c помощью команды p, трудно поддается чтению из-за того, что переход текста на следующую строку может осуществляться неподходящим образом. Команда pp использует модуль pprint , форматирующий значения для получения более аккуратного вывода."
   ]
  },
  {
   "cell_type": "code",
   "execution_count": null,
   "metadata": {},
   "outputs": [],
   "source": [
    "\n",
    "\n",
    "\n",
    "> .../pdb_pp.py(12)<module>()->None\n",
    "-> pdb.set_trace()\n",
    "(Pdb) p lines\n",
    "['Lorem ipsum dolor sit amet, consectetuer adipiscing elit.\n",
    "\\n', 'Donec egestas, enim et consecte tuer ullamcorper, lect\n",
    "us \\n', 'ligula rutrum leo, a elementum el it tortor eu quam\n",
    ".\\n']\n",
    "\n",
    "(Pdb) pp lines\n",
    "['Lorem ipsum dolor sit amet, consectetuer adipiscing elit. \\n',\n",
    " 'Donec egestas, enim et consectetuer ullamcorper, lectus \\n',\n",
    " 'ligula rutrum leo, a elementum elit tortor eu quam.\\n']\n",
    "\n",
    "(Pdb)"
   ]
  },
  {
   "cell_type": "markdown",
   "metadata": {},
   "source": [
    "Если требуется интерактивно исследовать содержимое переменных и выполнять эксперименты, можно выйти из отладчика и перейти в стандартный интерактивный режим Python, в котором глобальные переменные, а также локальные переменные из текущего фрейма уже будут заполнены значениями."
   ]
  },
  {
   "cell_type": "code",
   "execution_count": null,
   "metadata": {},
   "outputs": [],
   "source": [
    "\n",
    "> .../pdb_interact.py(7)<module>()\n",
    "-> import pdb\n",
    "(Pdb) break 14\n",
    "Breakpoint 1 at .../pdb_interact.py:14\n",
    "\n",
    "(Pdb) continue\n",
    "> .../pdb_interact.py(14)f()\n",
    "-> print(l, m, n)\n",
    "\n",
    "(Pdb) p l\n",
    "['a', 'b']\n",
    "\n",
    "(Pdb) p m\n",
    "9\n",
    "\n",
    "(Pdb) p n\n",
    "5\n",
    "\n",
    "(Pdb) interact\n",
    "*interactive*\n",
    "\n",
    ">>> l\n",
    "['a', 'b']\n",
    "\n",
    ">>> m\n",
    "9\n",
    "\n",
    ">>> n\n",
    "5"
   ]
  },
  {
   "cell_type": "markdown",
   "metadata": {},
   "source": [
    "Для выхода из режима интерактивного интерпретатора и возврата в отладчик следует ввести символ конца файла c помощью комбинации клавиш Ctrl-D."
   ]
  },
  {
   "cell_type": "markdown",
   "metadata": {},
   "source": [
    "### 2.3. Пошаговое выполнение программы"
   ]
  },
  {
   "cell_type": "markdown",
   "metadata": {},
   "source": [
    "Кроме перемещения вверх и вниз по стеку вызовов в то время, когда выполнение программы приостановлено, существует возможность пошагового выполнения программы c той точки, в которой был выполнен вход в отладчик."
   ]
  },
  {
   "cell_type": "code",
   "execution_count": null,
   "metadata": {},
   "outputs": [],
   "source": [
    "import pdb\n",
    "\n",
    "\n",
    "def f(n):\n",
    "    for i in range(n):\n",
    "        j = i * n\n",
    "        print(i, j)\n",
    "    return\n",
    "\n",
    "if __name__ == '__main__':\n",
    "    pdb.set_trace()\n",
    "    f(5)"
   ]
  },
  {
   "cell_type": "markdown",
   "metadata": {},
   "source": [
    "Команда step (сокращенная версия — s) выполняет текущую строку исходного кода и приостанавливает программу в следующей точке выполнения, будь то первая инструкция в вызываемой функции или следующая строка текущей функции."
   ]
  },
  {
   "cell_type": "code",
   "execution_count": null,
   "metadata": {},
   "outputs": [],
   "source": [
    "\n",
    "> .../pdb_step.py(18)<module>()\n",
    "-> f(5)"
   ]
  },
  {
   "cell_type": "markdown",
   "metadata": {},
   "source": [
    "После каждого вызова функции set_trace () интерпретатор приостанавливает выполнение и передает управление отладчику. Результатом выполнения первой команды step является вход в функцию f ()."
   ]
  },
  {
   "cell_type": "code",
   "execution_count": null,
   "metadata": {},
   "outputs": [],
   "source": [
    "(Pdb) step\n",
    "--Call--\n",
    "> .../pdb_step.py(10)f()\n",
    "-> def f(n):"
   ]
  },
  {
   "cell_type": "markdown",
   "metadata": {},
   "source": [
    "Следующая команда step перемещает точку выполнения в первую строку f () и запускает цикл."
   ]
  },
  {
   "cell_type": "code",
   "execution_count": null,
   "metadata": {},
   "outputs": [],
   "source": [
    "(Pdb) step\n",
    "> .../pdb_step.py(11)f()\n",
    "-> for i in range(n):"
   ]
  },
  {
   "cell_type": "markdown",
   "metadata": {},
   "source": [
    "Повторное выполнение команды step перемещает точку выполнения в первую строку внутри цикла, в которой определяется переменная j."
   ]
  },
  {
   "cell_type": "code",
   "execution_count": null,
   "metadata": {},
   "outputs": [],
   "source": [
    "(Pdb) step\n",
    "> .../pdb_step.py(12)f()\n",
    "-> j = i * n\n",
    "\n",
    "(Pdb) p i\n",
    "0"
   ]
  },
  {
   "cell_type": "markdown",
   "metadata": {},
   "source": [
    "Значение переменной i равно 0, поэтому после выполнения еще одного шага значение j должно быть равным 0."
   ]
  },
  {
   "cell_type": "code",
   "execution_count": null,
   "metadata": {},
   "outputs": [],
   "source": [
    "(Pdb) step\n",
    "> .../pdb_step.py(13)f()\n",
    "-> print(i, j)\n",
    "\n",
    "(Pdb) p j\n",
    "0\n",
    "\n",
    "(Pdb)"
   ]
  },
  {
   "cell_type": "markdown",
   "metadata": {},
   "source": [
    "Выполнение программы по одной строке за раз описанным способом может стать утомительным, если точке программы, в которой происходит ошибка, предшествует большое количество строк кода или одна и та же функция вызывается многократно."
   ]
  },
  {
   "cell_type": "code",
   "execution_count": null,
   "metadata": {},
   "outputs": [],
   "source": [
    "import pdb\n",
    "\n",
    "\n",
    "def calc(i, n):\n",
    "    j = i * n\n",
    "    return j\n",
    "\n",
    "\n",
    "def f(n):\n",
    "    for i in range(n):\n",
    "        j = calc(i, n)\n",
    "        print(i, j)\n",
    "    return\n",
    "\n",
    "if __name__ == '__main__':\n",
    "    pdb.set_trace()\n",
    "    f(5)"
   ]
  },
  {
   "cell_type": "markdown",
   "metadata": {},
   "source": [
    "В этом примере в функции calc () ничего не может случиться. Таким образом,ее пошаговое выполнение в цикле функции f () затруднило бы чтение полезного вывода, поскольку в этом случае все строки функции calc () отображались бы по мере их выполнения."
   ]
  },
  {
   "cell_type": "code",
   "execution_count": null,
   "metadata": {},
   "outputs": [],
   "source": [
    "\n",
    "\n",
    "> .../pdb_next.py(23)<module>()\n",
    "-> f(5)\n",
    "(Pdb) step\n",
    "--Call--\n",
    "> .../pdb_next.py(15)f()\n",
    "-> def f(n):\n",
    "\n",
    "(Pdb) step\n",
    "> .../pdb_next.py(16)f()\n",
    "-> for i in range(n):\n",
    "\n",
    "(Pdb) step\n",
    "> .../pdb_next.py(17)f()\n",
    "-> j = calc(i, n)\n",
    "\n",
    "(Pdb) step\n",
    "--Call--\n",
    "> .../pdb_next.py(10)calc()\n",
    "-> def calc(i, n):\n",
    "\n",
    "(Pdb) step\n",
    "> .../pdb_next.py(11)calc()\n",
    "-> j = i * n\n",
    "\n",
    "(Pdb) step\n",
    "> .../pdb_next.py(12)calc()\n",
    "-> return j\n",
    "\n",
    "(Pdb) step\n",
    "--Return--\n",
    "> .../pdb_next.py(12)calc()->0\n",
    "-> return j\n",
    "\n",
    "(Pdb) step\n",
    "> .../pdb_next.py(18)f()\n",
    "-> print(i, j)\n",
    "\n",
    "(Pdb) step\n",
    "0 0\n",
    "\n",
    "> .../pdb_next.py(16)f()\n",
    "-> for i in range(n):\n",
    "(Pdb)"
   ]
  },
  {
   "cell_type": "markdown",
   "metadata": {},
   "source": [
    "Команда next (сокращенная версия — n) подобна команде step, но не входит в тело функций, вызываемых из выполняемых инструкций. В конечном счете она выполняет весь вызов функции до следующей инструкции в текущей функции как одну операцию."
   ]
  },
  {
   "cell_type": "code",
   "execution_count": null,
   "metadata": {},
   "outputs": [],
   "source": [
    "> .../pdb_next.py(16)f()\n",
    "-> for i in range(n):\n",
    "(Pdb) step\n",
    "> .../pdb_next.py(17)f()\n",
    "-> j = calc(i, n)\n",
    "\n",
    "(Pdb) next\n",
    "> .../pdb_next.py(18)f()\n",
    "-> print(i, j)\n",
    "\n",
    "(Pdb)"
   ]
  },
  {
   "cell_type": "markdown",
   "metadata": {},
   "source": [
    "Команда until аналогична команде next, за исключением того, что она продолжает выполнение программы до тех пор, пока поток выполнения не покинет текущий фрейм стека или не будет достигнута строка, номер которой превышает номер текущей строки. Это, например, означает, что команду until можно использовать для выполнения всех команд цикла и приостановки выполнения на следующей строке."
   ]
  },
  {
   "cell_type": "code",
   "execution_count": null,
   "metadata": {},
   "outputs": [],
   "source": [
    "\n",
    "\n",
    "> .../pdb_next.py(23)<module>()\n",
    "-> f(5)\n",
    "(Pdb) step\n",
    "--Call--\n",
    "> .../pdb_next.py(15)f()\n",
    "-> def f(n):\n",
    "\n",
    "(Pdb) step\n",
    "> .../pdb_next.py(16)f()\n",
    "-> for i in range(n):\n",
    "\n",
    "(Pdb) step\n",
    "> .../pdb_next.py(17)f()\n",
    "-> j = calc(i, n)\n",
    "\n",
    "(Pdb) next\n",
    "> .../pdb_next.py(18)f()\n",
    "-> print(i, j)\n",
    "\n",
    "(Pdb) until\n",
    "0 0\n",
    "1 5\n",
    "2 10\n",
    "3 15\n",
    "4 20\n",
    "> .../pdb_next.py(19)f()\n",
    "-> return\n",
    "\n",
    "(Pdb)"
   ]
  },
  {
   "cell_type": "markdown",
   "metadata": {},
   "source": [
    "До выполнения команды until текущей строкой было строка 18, последняя строка цикла. После выполнения команды until точка выполнения находится в строке 19, когда цикл уже завершился.Чтобы позволить программе выполняться до тех пор, пока не будет достигнута определенная строка, следует передать номер строки команде until. В отличие от задания точки останова, номер строки, передаваемый команде until, должен превышать текущий номер строки, поэтому данная команда оказывается наиболее полезной для пропуска длинных блоков кода в пределах функции."
   ]
  },
  {
   "cell_type": "code",
   "execution_count": null,
   "metadata": {},
   "outputs": [],
   "source": [
    "\n",
    "> .../pdb_next.py(23)<module>()\n",
    "-> f(5)\n",
    "(Pdb) list\n",
    " 18          print(i, j)\n",
    " 19      return\n",
    " 20\n",
    " 21  if __name__ == '__main__':\n",
    " 22      pdb.set_trace()\n",
    " 23  ->    f(5)\n",
    "[EOF]\n",
    "\n",
    "(Pdb) until 18\n",
    "*** \"until\" line number is smaller than current line number\n",
    "\n",
    "(Pdb) step\n",
    "--Call--\n",
    "> .../pdb_next.py(15)f()\n",
    "-> def f(n):\n",
    "\n",
    "(Pdb) step\n",
    "> .../pdb_next.py(16)f()\n",
    "-> for i in range(n):\n",
    "\n",
    "(Pdb) list\n",
    " 11      j = i * n\n",
    " 12      return j\n",
    " 13\n",
    " 14\n",
    " 15  def f(n):\n",
    " 16  ->    for i in range(n):\n",
    " 17          j = calc(i, n)\n",
    " 18          print(i, j)\n",
    " 19      return\n",
    " 20\n",
    " 21  if __name__ == '__main__':\n",
    "\n",
    "(Pdb) until 19\n",
    "0 0\n",
    "1 5\n",
    "2 10\n",
    "3 15\n",
    "4 20\n",
    "> .../pdb_next.py(19)f()\n",
    "-> return\n",
    "\n",
    "(Pdb)"
   ]
  },
  {
   "cell_type": "markdown",
   "metadata": {},
   "source": [
    "Команда return — еще один полезный способ быстрого прохождения части функции. Она продолжает выполнение до тех пор, пока функция не будет готова выполнить инструкцию return. В этот момент выполнение программы приостанавливается, предоставляя возможность проверить возвращаемое значение, прежде чем будет выполнен возврат из функции."
   ]
  },
  {
   "cell_type": "code",
   "execution_count": null,
   "metadata": {},
   "outputs": [],
   "source": [
    "\n",
    "\n",
    "> .../pdb_next.py(23)<module>()\n",
    "-> f(5)\n",
    "(Pdb) step\n",
    "--Call--\n",
    "> .../pdb_next.py(15)f()\n",
    "-> def f(n):\n",
    "\n",
    "(Pdb) step\n",
    "> .../pdb_next.py(16)f()\n",
    "-> for i in range(n):\n",
    "\n",
    "(Pdb) return\n",
    "0 0\n",
    "1 5\n",
    "2 10\n",
    "3 15\n",
    "4 20\n",
    "--Return--\n",
    "> .../pdb_next.py(19)f()->None\n",
    "-> return\n",
    "\n",
    "(Pdb)"
   ]
  },
  {
   "cell_type": "markdown",
   "metadata": {},
   "source": [
    "## 3.Точки останова"
   ]
  },
  {
   "cell_type": "markdown",
   "metadata": {},
   "source": [
    "По мере роста размеров программ процесс отладки резко замедляется и становится чересчур громоздким даже в случае использования команд next и until. Вместо того чтобы управлять пошаговым выполнением программы вручную, лучше позволить ей выполняться обычным образом до тех пор, пока она не достигнет точки, в которой отладчик прервет ее выполнение. Для запуска отладчика можно использовать функцию set_trace (), но такой подход сработает лишь в том случае, если в программе имеется единственная точка, в которой выполнение программы должно приостановиться. Гораздо удобнее выполнять программу посредством отладчика c заблаговременной передачей ему информации о точках останова, в которых выполнение программы должно приостанавливаться."
   ]
  },
  {
   "cell_type": "code",
   "execution_count": null,
   "metadata": {},
   "outputs": [],
   "source": [
    "def calc(i, n):\n",
    "    j = i * n\n",
    "    print('j =', j)\n",
    "    if j > 0:\n",
    "        print('Positive!')\n",
    "    return j\n",
    "\n",
    "\n",
    "def f(n):\n",
    "    for i in range(n):\n",
    "        print('i =', i)\n",
    "        j = calc(i, n)  # noqa\n",
    "    return\n",
    "\n",
    "if __name__ == '__main__':\n",
    "    f(5)"
   ]
  },
  {
   "cell_type": "markdown",
   "metadata": {},
   "source": [
    "Существует несколько способов задания точек останова для команды break (сокращенно — b), в том числе c указанием номера строки, файла или функции, в которых обработка должна приостанавливаться. Чтобы задать точку останова на определенной строке текущего файла, следует использовать команду break номер__строки."
   ]
  },
  {
   "cell_type": "code",
   "execution_count": null,
   "metadata": {},
   "outputs": [],
   "source": [
    "> .../pdb_break.py(8)<module>()\n",
    "-> def calc(i, n):\n",
    "(Pdb) break 12\n",
    "Breakpoint 1 at .../pdb_break.py:12\n",
    "\n",
    "(Pdb) continue\n",
    "i = 0\n",
    "j = 0\n",
    "i = 1\n",
    "j = 5\n",
    "> .../pdb_break.py(12)calc()\n",
    "-> print('Positive!')\n",
    "\n",
    "(Pdb)"
   ]
  },
  {
   "cell_type": "markdown",
   "metadata": {},
   "source": [
    "Команда continue (сокращенная версия — c) информирует отладчик о необходимости возобновить выполнение программы до следующей точки останова.В данном примере вызов команды c приводит к выполнению первой итерации\n",
    "цикла for в функции f () и приостановке выполнения программы в теле функции calc () при прохождении второй итерации.\n",
    "\n",
    "Точки останова можно также устанавливать на первой строке функции, указав имя функции вместо номера строки. В следующем примере показано, что произойдет, если добавить точку останова для функции calc ()."
   ]
  },
  {
   "cell_type": "code",
   "execution_count": null,
   "metadata": {},
   "outputs": [],
   "source": [
    "\n",
    "\n",
    "> .../pdb_break.py(8)<module>()\n",
    "-> def calc(i, n):\n",
    "(Pdb) break calc\n",
    "Breakpoint 1 at .../pdb_break.py:8\n",
    "\n",
    "(Pdb) continue\n",
    "i = 0\n",
    "> .../pdb_break.py(9)calc()\n",
    "-> j = i * n\n",
    "\n",
    "(Pdb) where\n",
    "  .../pdb_break.py(23)<module>()\n",
    "-> f(5)\n",
    "  .../pdb_break.py(19)f()\n",
    "-> j = calc(i, n)\n",
    "> .../pdb_break.py(9)calc()\n",
    "-> j = i * n\n",
    "\n",
    "(Pdb)"
   ]
  },
  {
   "cell_type": "markdown",
   "metadata": {},
   "source": [
    "Чтобы задать точку останова в другом файле, следует предварить номер строки или имя функции префиксом в виде имени файла."
   ]
  },
  {
   "cell_type": "markdown",
   "metadata": {},
   "source": [
    "В качестве имени файла можно указать либо полный путь к файлу, либо относительный путь, доступный через список sys.path.\n",
    "Для получения текущего списка заданных точек останова следует выполнить команду break без аргументов. Вывод включает имя файла и номер строки для каждой точки останова, а также информацию о том, сколько раз она встретилась."
   ]
  },
  {
   "cell_type": "markdown",
   "metadata": {},
   "source": [
    "## 4. Изменение потока управления"
   ]
  },
  {
   "cell_type": "markdown",
   "metadata": {},
   "source": [
    "Команда jump изменяет поток управления программы без внесения изменений в код. Она обеспечивает пропуск выполнения некоторых участков кода или возврат к предыдущему кодудля его повторного выполнения. Приведенный ниже сценарий генерирует числовой список."
   ]
  },
  {
   "cell_type": "code",
   "execution_count": null,
   "metadata": {},
   "outputs": [],
   "source": [
    "def f(n):\n",
    "    result = []\n",
    "    j = 0\n",
    "    for i in range(n):\n",
    "        j = i * n + j\n",
    "        j += n\n",
    "        result.append(j)\n",
    "    return result\n",
    "\n",
    "if __name__ == '__main__':\n",
    "    print(f(5))"
   ]
  },
  {
   "cell_type": "markdown",
   "metadata": {},
   "source": [
    "Вывод, полученный при выполнении этого сценария без какого-либо вмешательства, представляет собой возрастающую последовательность чисел, которые делятся на 5."
   ]
  },
  {
   "cell_type": "code",
   "execution_count": null,
   "metadata": {},
   "outputs": [],
   "source": [
    "\n",
    "[5, 15, 30, 50, 75]"
   ]
  },
  {
   "cell_type": "markdown",
   "metadata": {},
   "source": [
    "### 4.1.Переходы вперед"
   ]
  },
  {
   "cell_type": "markdown",
   "metadata": {},
   "source": [
    "Переходы вперед перемещают точку выполнения программы в прямом направлении относительно текущего местоположения без выполнения промежуточных инструкций, располагающихся между начальной и конечной точками.\n",
    "Пропуск строки 13 в этом примере приводит к тому, что значение переменной j не инкрементируется, и поэтому все последующие значения, которые зависят от него, оказываются немного меньшими."
   ]
  },
  {
   "cell_type": "code",
   "execution_count": null,
   "metadata": {},
   "outputs": [],
   "source": [
    "\n",
    "\n",
    "> .../pdb_jump.py(8)<module>()\n",
    "-> def f(n):\n",
    "(Pdb) break 13\n",
    "Breakpoint 1 at .../pdb_jump.py:13\n",
    "\n",
    "(Pdb) continue\n",
    "> .../pdb_jump.py(13)f()\n",
    "-> j += n\n",
    "\n",
    "(Pdb) p j\n",
    "0\n",
    "\n",
    "(Pdb) step\n",
    "> .../pdb_jump.py(14)f()\n",
    "-> result.append(j)\n",
    "\n",
    "(Pdb) p j\n",
    "5\n",
    "\n",
    "(Pdb) continue\n",
    "> .../pdb_jump.py(13)f()\n",
    "-> j += n\n",
    "\n",
    "(Pdb) jump 14\n",
    "> .../pdb_jump.py(14)f()\n",
    "-> result.append(j)\n",
    "\n",
    "(Pdb) p j\n",
    "10\n",
    "\n",
    "(Pdb) disable 1\n",
    "\n",
    "(Pdb) continue\n",
    "[5, 10, 25, 45, 70]\n",
    "\n",
    "The program finished and will be restarted\n",
    "> .../pdb_jump.py(8)<module>()\n",
    "-> def f(n):\n",
    "(Pdb)"
   ]
  },
  {
   "cell_type": "markdown",
   "metadata": {},
   "source": [
    "### 4.2. Переходы назад"
   ]
  },
  {
   "cell_type": "markdown",
   "metadata": {},
   "source": [
    "Команду j ump можно также использовать для перемещения точки выполнения в обратном направлении, что позволяет повторно выполнить ранее выполненный код. В следующем примере значение j инкрементируется один лишний раз,\n",
    "поэтому числа в результирующей последовательности оказываются большими,чем они были бы в противном случае."
   ]
  },
  {
   "cell_type": "code",
   "execution_count": null,
   "metadata": {},
   "outputs": [],
   "source": [
    "\n",
    "\n",
    "> .../pdb_jump.py(8)<module>()\n",
    "-> def f(n):\n",
    "(Pdb) break 14\n",
    "Breakpoint 1 at .../pdb_jump.py:14\n",
    "\n",
    "(Pdb) continue\n",
    "> .../pdb_jump.py(14)f()\n",
    "-> result.append(j)\n",
    "\n",
    "(Pdb) p j\n",
    "5\n",
    "\n",
    "(Pdb) jump 13\n",
    "> .../pdb_jump.py(13)f()\n",
    "-> j += n\n",
    "\n",
    "(Pdb) continue\n",
    "> .../pdb_jump.py(14)f()\n",
    "-> result.append(j)\n",
    "\n",
    "(Pdb) p j\n",
    "10\n",
    "\n",
    "(Pdb) disable 1\n",
    "\n",
    "(Pdb) continue\n",
    "[10, 20, 35, 55, 80]\n",
    "\n",
    "The program finished and will be restarted\n",
    "> .../pdb_jump.py(8)<module>()\n",
    "-> def f(n):\n",
    "(Pdb)"
   ]
  },
  {
   "cell_type": "markdown",
   "metadata": {},
   "source": [
    "### 4.3. Запрещенные переходы"
   ]
  },
  {
   "cell_type": "markdown",
   "metadata": {},
   "source": [
    "Переходы в тело некоторых инструкций потока выполнения или из них опасны или вызывают неопределенность. Отладчик не допускает такое поведение."
   ]
  },
  {
   "cell_type": "code",
   "execution_count": null,
   "metadata": {},
   "outputs": [],
   "source": [
    "def f(n):\n",
    "    if n < 0:\n",
    "        raise ValueError('Invalid n: {}'.format(n))\n",
    "    result = []\n",
    "    j = 0\n",
    "    for i in range(n):\n",
    "        j = i * n + j\n",
    "        j += n\n",
    "        result.append(j)\n",
    "    return result\n",
    "\n",
    "\n",
    "if __name__ == '__main__':\n",
    "    try:\n",
    "        print(f(5))\n",
    "    finally:\n",
    "        print('Always printed')\n",
    "\n",
    "    try:\n",
    "        print(f(-5))\n",
    "    except:\n",
    "        print('There was an error')\n",
    "    else:\n",
    "        print('There was no error')\n",
    "\n",
    "    print('Last statement')"
   ]
  },
  {
   "cell_type": "markdown",
   "metadata": {},
   "source": [
    "Несмотря на то что команда jump может быть использована для перехода\n",
    "внутрь функции, нормальная работа кода маловероятна, поскольку аргумент\n",
    "функции не определен."
   ]
  },
  {
   "cell_type": "code",
   "execution_count": null,
   "metadata": {},
   "outputs": [],
   "source": [
    "\n",
    "\n",
    "> .../pdb_no_jump.py(8)<module>()\n",
    "-> def f(n):\n",
    "(Pdb) break 22\n",
    "Breakpoint 1 at .../pdb_no_jump.py:22\n",
    "\n",
    "(Pdb) jump 9\n",
    "> .../pdb_no_jump.py(9)<module>()\n",
    "-> if n < 0:\n",
    "\n",
    "(Pdb) p n\n",
    "*** NameError: NameError(\"name 'n' is not defined\",)\n",
    "\n",
    "(Pdb) args\n",
    "\n",
    "(Pdb)"
   ]
  },
  {
   "cell_type": "markdown",
   "metadata": {},
   "source": [
    "C помощью команды jump нельзя входить в середину блока, такого как цикл for или инструкция try:except."
   ]
  },
  {
   "cell_type": "code",
   "execution_count": null,
   "metadata": {},
   "outputs": [],
   "source": [
    "\n",
    "\n",
    "> .../pdb_no_jump.py(8)<module>()\n",
    "-> def f(n):\n",
    "(Pdb) break 22\n",
    "Breakpoint 1 at .../pdb_no_jump.py:22\n",
    "\n",
    "(Pdb) continue\n",
    "> .../pdb_no_jump.py(22)<module>()\n",
    "-> print(f(5))\n",
    "\n",
    "(Pdb) jump 27\n",
    "*** Jump failed: can't jump into the middle of a block\n",
    "\n",
    "(Pdb)"
   ]
  },
  {
   "cell_type": "markdown",
   "metadata": {},
   "source": [
    "Код в блоке finally должен всегда выполняться, поэтому выход за пределы  блока c помощью команды jump невозможен."
   ]
  },
  {
   "cell_type": "code",
   "execution_count": null,
   "metadata": {},
   "outputs": [],
   "source": [
    "\n",
    "\n",
    "> .../pdb_no_jump.py(8)<module>()\n",
    "-> def f(n):\n",
    "(Pdb) break 24\n",
    "Breakpoint 1 at .../pdb_no_jump.py:24\n",
    "\n",
    "(Pdb) continue\n",
    "[5, 15, 30, 50, 75]\n",
    "> .../pdb_no_jump.py(24)<module>()\n",
    "-> print 'Always printed'\n",
    "\n",
    "(Pdb) jump 26\n",
    "*** Jump failed: can't jump into or out of a 'finally' block\n",
    "\n",
    "(Pdb)"
   ]
  },
  {
   "cell_type": "markdown",
   "metadata": {},
   "source": [
    "Основное ограничение заключается в том, что переходы ограничены нижним фреймом стека. Порядок выполнения программы нельзя будет изменить, если контекст отладки был изменен c помощью команды up."
   ]
  },
  {
   "cell_type": "code",
   "execution_count": null,
   "metadata": {},
   "outputs": [],
   "source": [
    "\n",
    "\n",
    "> .../pdb_no_jump.py(8)<module>()\n",
    "-> def f(n):\n",
    "(Pdb) break 12\n",
    "Breakpoint 1 at .../pdb_no_jump.py:12\n",
    "\n",
    "(Pdb) continue\n",
    "> .../pdb_no_jump.py(12)f()\n",
    "-> j = 0\n",
    "\n",
    "(Pdb) where\n",
    "  .../lib/python3.5/bdb.py(\n",
    "431)run()\n",
    "-> exec cmd in globals, locals\n",
    "  <string>(1)<module>()\n",
    "  .../pdb_no_jump.py(22)<module>()\n",
    "-> print(f(5))\n",
    "> .../pdb_no_jump.py(12)f()\n",
    "-> j = 0\n",
    "\n",
    "(Pdb) up\n",
    "> .../pdb_no_jump.py(22)<module>()\n",
    "-> print(f(5))\n",
    "\n",
    "(Pdb) jump 25\n",
    "*** You can only jump within the bottom frame\n",
    "\n",
    "(Pdb)"
   ]
  },
  {
   "cell_type": "markdown",
   "metadata": {},
   "source": [
    "## 5.Настройка отладчика c помощью псевдонимов"
   ]
  },
  {
   "cell_type": "markdown",
   "metadata": {},
   "source": [
    "Использование псевдонимов позволяет избежать утомительного повторного ввода сложных команд, сокращая их за счет использования псевдонимов.Раскрытие псевдонимов применяется к первому слову каждой команды. Тело псевдонима может включать любую команду, ввод которой в ответ на приглашение отладчика является допустимым, в том числе другие команды отладчика и выражения Python. В определениях псевдонимов допускается использовать рекурсию, поэтому одни псевдонимы могут вызывать другие."
   ]
  },
  {
   "cell_type": "code",
   "execution_count": null,
   "metadata": {},
   "outputs": [],
   "source": [
    "\n",
    "\n",
    "> .../pdb_function_arguments.py(7)<module>()\n",
    "-> import pdb\n",
    "(Pdb) break 11\n",
    "Breakpoint 1 at .../pdb_function_arguments.py:11\n",
    "\n",
    "(Pdb) continue\n",
    "> .../pdb_function_arguments.py(11)recursive_function()\n",
    "-> if n > 0:\n",
    "\n",
    "(Pdb) pp locals().keys()\n",
    "dict_keys(['output', 'n'])\n",
    "\n",
    "(Pdb) alias pl pp locals().keys()\n",
    "\n",
    "(Pdb) pl\n",
    "dict_keys(['output', 'n'])"
   ]
  },
  {
   "cell_type": "markdown",
   "metadata": {},
   "source": [
    "Команда alias без аргументов отображает список определенных псевдонимов. Если задан один аргумент, то он воспринимается как псевдоним, и выводится его определение."
   ]
  },
  {
   "cell_type": "code",
   "execution_count": null,
   "metadata": {},
   "outputs": [],
   "source": [
    "(Pdb) alias\n",
    "pl = pp locals().keys()\n",
    "\n",
    "(Pdb) alias pl\n",
    "pl = pp locals().keys()\n",
    "\n",
    "(Pdb)"
   ]
  },
  {
   "cell_type": "markdown",
   "metadata": {},
   "source": [
    "К аргументам псевдонимов можно обращаться c помощью ссылок вида %n, где n — номер позиции аргумента, отсчитываемый от 1. Для обращения сразу ко всем аргументам используется синтаксис %*."
   ]
  },
  {
   "cell_type": "code",
   "execution_count": null,
   "metadata": {},
   "outputs": [],
   "source": [
    "\n",
    "\n",
    "> .../pdb_function_arguments.py(7)<module>()\n",
    "-> import pdb\n",
    "(Pdb) alias ph !help(%1)\n",
    "\n",
    "(Pdb) ph locals\n",
    "Help on built-in function locals in module builtins:\n",
    "\n",
    "locals()\n",
    "    Return a dictionary containing the current scope's local\n",
    "    variables.\n",
    "\n",
    "    NOTE: Whether or not updates to this dictionary will affect\n",
    "    name lookups in the local scope and vice-versa is\n",
    "    *implementation dependent* and not covered by any backwards\n",
    "    compatibility guarantees."
   ]
  },
  {
   "cell_type": "markdown",
   "metadata": {},
   "source": [
    "Определение псевдонима можно удалить c помощью команды unalias."
   ]
  },
  {
   "cell_type": "code",
   "execution_count": null,
   "metadata": {},
   "outputs": [],
   "source": [
    "(Pdb) unalias ph\n",
    "\n",
    "(Pdb) ph locals\n",
    "*** SyntaxError: invalid syntax (<stdin>, line 1)\n",
    "\n",
    "(Pdb)"
   ]
  },
  {
   "cell_type": "markdown",
   "metadata": {},
   "source": [
    "## 6.Сохранение конфигурационных параметров"
   ]
  },
  {
   "cell_type": "markdown",
   "metadata": {},
   "source": [
    "Процесс отладки программы состоит из ряда повторяющихся этапов: выполнение кода, анализ результатов, исправление кода или данных и повторное выполнение кода. Модуль pdb позволяет уменьшить количество таких повторений и тем самым сосредоточить основное внимание на коде, а не на управлении процессом отладки. Для этого в модуле pdb предусмотрены средства, обеспечивающие чтение конфигурационной информации, сохраненной в текстовых файлах, которая интерпретируется при запуске отладчика.\n",
    "\n",
    "Сначала читается файл ~/ .pdbrc. Он устанавливает глобальные персональные настройки для всех сеансов отладки. Затем из текущего каталога читается файл ./.pdbrc, c помощью которого устанавливаются локальные параметры для конкретного проекта."
   ]
  },
  {
   "cell_type": "code",
   "execution_count": null,
   "metadata": {},
   "outputs": [],
   "source": [
    "$ cat ~/.pdbrc\n",
    "\n",
    "# Show python help\n",
    "alias ph !help(%1)\n",
    "# Overridden alias\n",
    "alias redefined p 'home definition'\n",
    "\n",
    "$ cat .pdbrc\n",
    "\n",
    "# Breakpoints\n",
    "break 11\n",
    "# Overridden alias\n",
    "alias redefined p 'local definition'\n",
    "\n",
    "$ python3 -m pdb pdb_function_arguments.py\n",
    "\n",
    "Breakpoint 1 at .../pdb_function_arguments.py:11\n",
    "> .../pdb_function_arguments.py(7)<module>()\n",
    "-> import pdb\n",
    "(Pdb) alias\n",
    "ph = !help(%1)\n",
    "redefined = p 'local definition'\n",
    "\n",
    "(Pdb) break\n",
    "Num Type         Disp Enb   Where\n",
    "1   breakpoint   keep yes   at .../pdb_function_arguments.py:11\n",
    "\n",
    "(Pdb)"
   ]
  },
  {
   "cell_type": "markdown",
   "metadata": {},
   "source": [
    "Любые команды конфигурирования, которые можно вводить в ответ на приглашение, отображаемое отладчиком, могут быть сохранены в одном из таких файлов автозапуска. Точно так же могут быть сохранены некоторые команды,\n",
    "управляющие процессом выполнения (например, continue или next)."
   ]
  },
  {
   "cell_type": "code",
   "execution_count": null,
   "metadata": {},
   "outputs": [],
   "source": [
    "$ cat .pdbrc\n",
    "break 11\n",
    "continue\n",
    "list\n",
    "\n",
    "$ python3 -m pdb pdb_function_arguments.py\n",
    "Breakpoint 1 at .../pdb_function_arguments.py:11\n",
    "  6\n",
    "  7  import pdb\n",
    "  8\n",
    "  9\n",
    "  10  def recursive_function(n=5, output='to be printed'):\n",
    "  11 B->    if n > 0:\n",
    "  12            recursive_function(n - 1)\n",
    "  13        else:\n",
    "  14            pdb.set_trace()\n",
    "  15            print(output)\n",
    "  16        return\n",
    "> .../pdb_function_arguments.py(11)recursive_function()\n",
    "-> if n > 0:\n",
    "(Pdb)"
   ]
  },
  {
   "cell_type": "markdown",
   "metadata": {},
   "source": [
    "Особенно полезно сохранять команды run. Это позволяет задавать аргументы командной строки в файле . / .pdbrc, тем самым обеспечивая их последовательное использование на протяжении нескольких запусков."
   ]
  },
  {
   "cell_type": "code",
   "execution_count": null,
   "metadata": {},
   "outputs": [],
   "source": [
    "$ cat .pdbrc\n",
    "run a b c \"long argument\"\n",
    "\n",
    "$ python3 -m pdb pdb_run.py\n",
    "Restarting pdb_run.py with arguments:\n",
    "      a b c \"long argument\"\n",
    "> .../pdb_run.py(7)<module>()\n",
    "-> import sys\n",
    "\n",
    "(Pdb) continue\n",
    "Command-line args: ['pdb_run.py', 'a', 'b', 'c',\n",
    "'long argument']\n",
    "The program finished and will be restarted\n",
    "> .../pdb_run.py(7)<module>()\n",
    "-> import sys\n",
    "\n",
    "(Pdb)"
   ]
  },
  {
   "cell_type": "code",
   "execution_count": null,
   "metadata": {},
   "outputs": [],
   "source": [
    "Задание: Запустить любую программу через отладчик pdb пошагово"
   ]
  },
  {
   "cell_type": "code",
   "execution_count": null,
   "metadata": {},
   "outputs": [],
   "source": []
  }
 ],
 "metadata": {
  "kernelspec": {
   "display_name": "Python 3",
   "language": "python",
   "name": "python3"
  },
  "language_info": {
   "codemirror_mode": {
    "name": "ipython",
    "version": 3
   },
   "file_extension": ".py",
   "mimetype": "text/x-python",
   "name": "python",
   "nbconvert_exporter": "python",
   "pygments_lexer": "ipython3",
   "version": "3.8.3"
  }
 },
 "nbformat": 4,
 "nbformat_minor": 4
}
