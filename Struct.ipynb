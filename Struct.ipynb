{
 "cells": [
  {
   "cell_type": "markdown",
   "metadata": {},
   "source": [
    "# Модуль struct"
   ]
  },
  {
   "cell_type": "markdown",
   "metadata": {},
   "source": [
    " Модуль struct позволяет упаковать двоичные данные в байтовую строку, которую впоследствии можно будет распаковать для преобразования в исходные данные. "
   ]
  },
  {
   "cell_type": "markdown",
   "metadata": {},
   "source": [
    "## Struct.pack"
   ]
  },
  {
   "cell_type": "markdown",
   "metadata": {},
   "source": [
    "В этом примере спецификатор вызывает целое или длинное целочисленное значение, двухбайтовую строку и число с плавающей запятой. Пробелы в спецификаторе формата включены для разделения индикаторов типа и игнорируются при компиляции формата."
   ]
  },
  {
   "cell_type": "code",
   "execution_count": null,
   "metadata": {},
   "outputs": [],
   "source": [
    "import struct\n",
    "import binascii\n",
    "\n",
    "values = (1, 'ab'.encode('utf-8'), 2.7)\n",
    "s = struct.Struct('I 2s f')\n",
    "packed_data = s.pack(*values)\n",
    "\n",
    "print('Оригинальные значения:', values)\n",
    "print('Формат строки :', s.format)\n",
    "print('Использует   :', s.size, 'байт')\n",
    "print('Значение:', binascii.hexlify(packed_data))"
   ]
  },
  {
   "cell_type": "markdown",
   "metadata": {},
   "source": [
    "## Struct.unpack"
   ]
  },
  {
   "cell_type": "markdown",
   "metadata": {},
   "source": [
    "Используется unpack()для извлечения данных из упакованного представления."
   ]
  },
  {
   "cell_type": "code",
   "execution_count": 1,
   "metadata": {},
   "outputs": [
    {
     "name": "stdout",
     "output_type": "stream",
     "text": [
      "Unpacked Values: (1, b'ab', 2.700000047683716)\n"
     ]
    }
   ],
   "source": [
    "import struct\n",
    "import binascii\n",
    "\n",
    "packed_data = binascii.unhexlify(b'0100000061620000cdcc2c40')\n",
    "\n",
    "s = struct.Struct('I 2s f')\n",
    "unpacked_data = s.unpack(packed_data)\n",
    "print('Unpacked Values:', unpacked_data)"
   ]
  },
  {
   "cell_type": "markdown",
   "metadata": {},
   "source": [
    "Передача упакованного значения в unpack()возвращает в основном те же значения (обратите внимание на расхождение в значении с плавающей запятой)."
   ]
  },
  {
   "cell_type": "markdown",
   "metadata": {},
   "source": [
    "## Индикатор порядка байтов"
   ]
  },
  {
   "cell_type": "markdown",
   "metadata": {},
   "source": [
    "По умолчанию значения кодируются c использованием порядка следования байтов, установленного для библиотеки C. Однако вы можете изменить этот порядок, явно задав соответствующую директиву в строке формата."
   ]
  },
  {
   "cell_type": "code",
   "execution_count": 2,
   "metadata": {},
   "outputs": [
    {
     "name": "stdout",
     "output_type": "stream",
     "text": [
      "Original values: (1, b'ab', 2.7)\n",
      "\n",
      "Format string  : @ I 2s f for Свойственный, свойственный\n",
      "Uses           : 12 bytes\n",
      "Packed Value   : b'0100000061620000cdcc2c40'\n",
      "Unpacked Value : (1, b'ab', 2.700000047683716)\n",
      "\n",
      "Format string  : = I 2s f for Свойтвенный, стандартный\n",
      "Uses           : 10 bytes\n",
      "Packed Value   : b'010000006162cdcc2c40'\n",
      "Unpacked Value : (1, b'ab', 2.700000047683716)\n",
      "\n",
      "Format string  : < I 2s f for Обратный порядок\n",
      "Uses           : 10 bytes\n",
      "Packed Value   : b'010000006162cdcc2c40'\n",
      "Unpacked Value : (1, b'ab', 2.700000047683716)\n",
      "\n",
      "Format string  : > I 2s f for Прямой порядок\n",
      "Uses           : 10 bytes\n",
      "Packed Value   : b'000000016162402ccccd'\n",
      "Unpacked Value : (1, b'ab', 2.700000047683716)\n",
      "\n",
      "Format string  : ! I 2s f for Сетевой порядок\n",
      "Uses           : 10 bytes\n",
      "Packed Value   : b'000000016162402ccccd'\n",
      "Unpacked Value : (1, b'ab', 2.700000047683716)\n"
     ]
    }
   ],
   "source": [
    "import struct\n",
    "import binascii\n",
    "\n",
    "values = (1, 'ab'.encode('utf-8'), 2.7)\n",
    "print('Original values:', values)\n",
    "\n",
    "endianness = [\n",
    "    ('@', 'Свойственный, свойственный'),\n",
    "    ('=', 'Свойтвенный, стандартный'),\n",
    "    ('<', 'Обратный порядок'),\n",
    "    ('>', 'Прямой порядок'),\n",
    "    ('!', 'Сетевой порядок'),\n",
    "]\n",
    "\n",
    "for code, name in endianness:\n",
    "    s = struct.Struct(code + ' I 2s f')\n",
    "    packed_data = s.pack(*values)\n",
    "    print()\n",
    "    print('Format string  :', s.format, 'for', name)\n",
    "    print('Uses           :', s.size, 'bytes')\n",
    "    print('Packed Value   :', binascii.hexlify(packed_data))\n",
    "    print('Unpacked Value :', s.unpack(packed_data))"
   ]
  },
  {
   "cell_type": "markdown",
   "metadata": {},
   "source": [
    "## Буферизация"
   ]
  },
  {
   "cell_type": "markdown",
   "metadata": {},
   "source": [
    "Методы pack_into () и unpack_from() поддерживают непосредственную запись в предварительно выделенные буфера."
   ]
  },
  {
   "cell_type": "code",
   "execution_count": null,
   "metadata": {},
   "outputs": [],
   "source": [
    "import array\n",
    "import binascii\n",
    "import ctypes\n",
    "import struct\n",
    "\n",
    "s = struct.Struct('I 2s f')\n",
    "values = (1, 'ab'.encode('utf-8'), 2.7)\n",
    "print('Original:', values)\n",
    "\n",
    "print()\n",
    "print('ctypes string buffer')\n",
    "\n",
    "b = ctypes.create_string_buffer(s.size)\n",
    "print('Before  :', binascii.hexlify(b.raw))\n",
    "s.pack_into(b, 0, *values)\n",
    "print('After   :', binascii.hexlify(b.raw))\n",
    "print('Unpacked:', s.unpack_from(b, 0))\n",
    "\n",
    "print()\n",
    "print('array')\n",
    "\n",
    "a = array.array('b', b'\\0' * s.size)\n",
    "print('Before  :', binascii.hexlify(a))\n",
    "s.pack_into(a, 0, *values)\n",
    "print('After   :', binascii.hexlify(a))\n",
    "print('Unpacked:', s.unpack_from(a, 0))"
   ]
  },
  {
   "cell_type": "markdown",
   "metadata": {},
   "source": [
    "Атрибут size сообщает о необходимом размере буфера."
   ]
  },
  {
   "cell_type": "markdown",
   "metadata": {},
   "source": [
    "Задание: Упаковать заданный список ( [ 1, 3, 9, 12.5 ]) с использованием обратного порядка следования байтов и распаковать."
   ]
  },
  {
   "cell_type": "code",
   "execution_count": null,
   "metadata": {},
   "outputs": [],
   "source": []
  }
 ],
 "metadata": {
  "kernelspec": {
   "display_name": "Python 3",
   "language": "python",
   "name": "python3"
  },
  "language_info": {
   "codemirror_mode": {
    "name": "ipython",
    "version": 3
   },
   "file_extension": ".py",
   "mimetype": "text/x-python",
   "name": "python",
   "nbconvert_exporter": "python",
   "pygments_lexer": "ipython3",
   "version": "3.8.3"
  }
 },
 "nbformat": 4,
 "nbformat_minor": 4
}
